{
 "cells": [
  {
   "cell_type": "markdown",
   "metadata": {},
   "source": [
    "# Programming Errors \n",
    "\n",
    "#1 syntax errors\n",
    "#2 run-time errors\n"
   ]
  },
  {
   "cell_type": "markdown",
   "metadata": {},
   "source": [
    "#1 syntax errors: code level mistake due to invalid syntax (typing mistake)"
   ]
  },
  {
   "cell_type": "markdown",
   "metadata": {},
   "source": [
    "##### Exception Handling talks about run-time errors only: while executing a program if something goes wrong we get run time errors"
   ]
  },
  {
   "cell_type": "code",
   "execution_count": 44,
   "metadata": {
    "collapsed": true
   },
   "outputs": [],
   "source": [
    "# Runtime Error"
   ]
  },
  {
   "cell_type": "code",
   "execution_count": 4,
   "metadata": {
    "collapsed": true
   },
   "outputs": [],
   "source": [
    "#Q whats an Exception?\n",
    "#A something that disturbs the normal flow of the program is called an Exception\n",
    "\n",
    "# Examples:\n",
    "# EOF error\n",
    "# File Not Found\n",
    "# zero division error"
   ]
  },
  {
   "cell_type": "code",
   "execution_count": null,
   "metadata": {
    "collapsed": true
   },
   "outputs": [],
   "source": [
    "# purpose of exception is gracefull termination of program \n",
    "\n",
    "#Q what is the meaning of exception handling \n",
    "#A Defing an alternative to continue the rest of the program in a normal way"
   ]
  },
  {
   "cell_type": "code",
   "execution_count": null,
   "metadata": {
    "collapsed": true
   },
   "outputs": [],
   "source": [
    "try:\n",
    "    #read data from a remote file locating in london    \n",
    "except FileNotFoundError:\n",
    "    #use local file and continue the rest of the program normally "
   ]
  },
  {
   "cell_type": "code",
   "execution_count": null,
   "metadata": {
    "collapsed": true
   },
   "outputs": [],
   "source": [
    "#Default Exception handling in python: pvm will create an exception object,\n",
    "# for every obj the correspong classes \n"
   ]
  },
  {
   "cell_type": "code",
   "execution_count": 5,
   "metadata": {
    "collapsed": true
   },
   "outputs": [],
   "source": [
    "# python Exception Hierarchay\n",
    "#1 every exception in python are childern of BaseException Class\n",
    "\n",
    "#2 BaseException's Child classses are:\n",
    "#-- Exception\n",
    "#-- AttributeError,ArithematicError,EoFError,LookupError,OSerror,ValueError \n",
    "#---------------ArithematicError->ZeroDivisionError,FloatingpointError,OverFlowError\n",
    "#---------------LookupError->IndexError,KeyError\n",
    "#---------------OSerror->FileNotFoundError,PermissionError,TimeOutError\n",
    "#-- System exit\n",
    "#-- Generator Exit\n",
    "#-- Keyborad Interupt"
   ]
  },
  {
   "cell_type": "code",
   "execution_count": null,
   "metadata": {
    "collapsed": true
   },
   "outputs": [],
   "source": [
    "# Customized Exception Handling:\n",
    "# The code wich may raise an exception is called a risky code,hence this should be taken in the try part\n",
    "# If something goes wrong, u should have alternative (handling Code), this should be in except block"
   ]
  },
  {
   "cell_type": "code",
   "execution_count": null,
   "metadata": {
    "collapsed": true
   },
   "outputs": [],
   "source": [
    "try:\n",
    "    #risky code\n",
    "except:\n",
    "    #Handling Code"
   ]
  },
  {
   "cell_type": "code",
   "execution_count": 12,
   "metadata": {},
   "outputs": [
    {
     "name": "stdout",
     "output_type": "stream",
     "text": [
      "Hello\n"
     ]
    },
    {
     "ename": "ZeroDivisionError",
     "evalue": "division by zero",
     "output_type": "error",
     "traceback": [
      "\u001b[0;31m---------------------------------------------------------------------------\u001b[0m",
      "\u001b[0;31mZeroDivisionError\u001b[0m                         Traceback (most recent call last)",
      "\u001b[0;32m<ipython-input-12-984efc805892>\u001b[0m in \u001b[0;36m<module>\u001b[0;34m()\u001b[0m\n\u001b[1;32m      2\u001b[0m \u001b[0;34m\u001b[0m\u001b[0m\n\u001b[1;32m      3\u001b[0m \u001b[0mprint\u001b[0m\u001b[0;34m(\u001b[0m\u001b[0;34m\"Hello\"\u001b[0m\u001b[0;34m)\u001b[0m\u001b[0;34m\u001b[0m\u001b[0m\n\u001b[0;32m----> 4\u001b[0;31m \u001b[0mprint\u001b[0m\u001b[0;34m(\u001b[0m\u001b[0;36m10\u001b[0m\u001b[0;34m/\u001b[0m\u001b[0;36m0\u001b[0m\u001b[0;34m)\u001b[0m\u001b[0;34m\u001b[0m\u001b[0m\n\u001b[0m\u001b[1;32m      5\u001b[0m \u001b[0mprint\u001b[0m\u001b[0;34m(\u001b[0m\u001b[0;36m10\u001b[0m\u001b[0;34m/\u001b[0m\u001b[0;36m2\u001b[0m\u001b[0;34m)\u001b[0m\u001b[0;34m\u001b[0m\u001b[0m\n\u001b[1;32m      6\u001b[0m \u001b[0mprint\u001b[0m\u001b[0;34m(\u001b[0m\u001b[0;34m'ZeroDivisionError Exit'\u001b[0m\u001b[0;34m)\u001b[0m\u001b[0;34m\u001b[0m\u001b[0m\n",
      "\u001b[0;31mZeroDivisionError\u001b[0m: division by zero"
     ]
    }
   ],
   "source": [
    "#Example (Abnormal Termination)\n",
    "\n",
    "print(\"Hello\")\n",
    "print(10/0)\n",
    "print(10/2)\n",
    "print('ZeroDivisionError Exit')"
   ]
  },
  {
   "cell_type": "code",
   "execution_count": 9,
   "metadata": {},
   "outputs": [
    {
     "name": "stdout",
     "output_type": "stream",
     "text": [
      "Hello\n",
      "5.0\n",
      "ZeroDivisionError Exit\n"
     ]
    }
   ],
   "source": [
    "#Example (Normal Termination)\n",
    "\n",
    "print(\"Hello\")\n",
    "try:\n",
    "    print(10/0)\n",
    "except ZeroDivisionError:\n",
    "    print(10/2)\n",
    "    print('ZeroDivisionError Exit')"
   ]
  },
  {
   "cell_type": "code",
   "execution_count": 11,
   "metadata": {},
   "outputs": [
    {
     "name": "stdout",
     "output_type": "stream",
     "text": [
      "Hello\n",
      "5.0\n",
      "BaseException Error Also works parent\n"
     ]
    }
   ],
   "source": [
    "#Example (Normal Termination)\n",
    "\n",
    "print(\"Hello\")\n",
    "try:\n",
    "    print(10/0)\n",
    "except BaseException:\n",
    "    print(10/2)\n",
    "    print('BaseException Error Also works parent')"
   ]
  },
  {
   "cell_type": "code",
   "execution_count": null,
   "metadata": {
    "collapsed": true
   },
   "outputs": [],
   "source": [
    "# Control flow in try except block:\n",
    "try:\n",
    "    # statement-1\n",
    "    # statement-2\n",
    "    # statement-3\n",
    "except BaseException:\n",
    "    \n",
    "    # statement-4\n",
    "\n",
    "# statement-5\n",
    "\n"
   ]
  },
  {
   "cell_type": "code",
   "execution_count": null,
   "metadata": {
    "collapsed": true
   },
   "outputs": [],
   "source": [
    "#case 1\n",
    "# if there is no exception\n",
    "# statement-1\n",
    "# statement-2\n",
    "# statement-3\n",
    "# statement-5"
   ]
  },
  {
   "cell_type": "code",
   "execution_count": null,
   "metadata": {
    "collapsed": true
   },
   "outputs": [],
   "source": [
    "#case 2\n",
    "# if there is an exception at statement-2 and coresponding exception match\n",
    "# statement-1\n",
    "# statement-4\n",
    "# statement-5"
   ]
  },
  {
   "cell_type": "code",
   "execution_count": null,
   "metadata": {
    "collapsed": true
   },
   "outputs": [],
   "source": [
    "#case 3\n",
    "# if there is an exception at statement-2 and coresponding exception not matched\n",
    "# Abnormal termination"
   ]
  },
  {
   "cell_type": "code",
   "execution_count": null,
   "metadata": {
    "collapsed": true
   },
   "outputs": [],
   "source": [
    "#case 4\n",
    "# if there is an exception at statement-4\n",
    "# Abnormal termination"
   ]
  },
  {
   "cell_type": "code",
   "execution_count": 1,
   "metadata": {},
   "outputs": [
    {
     "name": "stdout",
     "output_type": "stream",
     "text": [
      "The Error is :  division by zero\n"
     ]
    }
   ],
   "source": [
    "# How to print exception information:\n",
    "try:\n",
    "    print(10/0)\n",
    "except ZeroDivisionError as msg:\n",
    "    print(\"The Error is : \",msg)"
   ]
  },
  {
   "cell_type": "code",
   "execution_count": null,
   "metadata": {
    "collapsed": true
   },
   "outputs": [],
   "source": [
    "#try with multiple except blocks (-- Highly recommended)\n",
    "\n",
    "try:\n",
    "    #risky code\n",
    "except ZeroDivisionError:\n",
    "    #Error specfic code\n",
    "    #Exception ZeroDivisionError(perform math operation to correct it)\n",
    "except FileNotFoundError: \n",
    "    #Error specfic code -- Higly recommended\n",
    "    #Exception FileNotFoundError(use local file to correct)"
   ]
  },
  {
   "cell_type": "code",
   "execution_count": 42,
   "metadata": {},
   "outputs": [
    {
     "name": "stdout",
     "output_type": "stream",
     "text": [
      "Enter First Number Here:10\n",
      "Enter Second Number Here:i\n",
      "Provide Int Value only\n"
     ]
    }
   ],
   "source": [
    "# pvm is always moves from top to bottom on exceptions\n",
    "try:\n",
    "    x = int(input(\"Enter First Number Here:\"))\n",
    "    y = int(input(\"Enter Second Number Here:\"))\n",
    "    print(x/y)\n",
    "except ZeroDivisionError:\n",
    "    print(\"Cant Divide with Zero\")\n",
    "    #Error specfic code\n",
    "    #Exception ZeroDivisionError(perform math operation to correct it)\n",
    "except FileNotFoundError: \n",
    "    print(\"FileNotFoundError\")\n",
    "    #Error specfic code -- Higly recommended\n",
    "    #Exception FileNotFoundError(use local file to correct)\n",
    "except ValueError: \n",
    "    print(\"Provide Int Value only\")\n",
    "    #Error specfic code -- Higly recommended\n",
    "    #Exception FileNotFoundError(use local file to correct)"
   ]
  },
  {
   "cell_type": "code",
   "execution_count": 45,
   "metadata": {},
   "outputs": [
    {
     "name": "stdout",
     "output_type": "stream",
     "text": [
      "Enter First Number Here:1\n",
      "Enter Second Number Here:0\n",
      "ArithmeticError\n"
     ]
    }
   ],
   "source": [
    "# pvm is always moves from top to bottom on exceptions\n",
    "try:\n",
    "    x = int(input(\"Enter First Number Here:\"))\n",
    "    y = int(input(\"Enter Second Number Here:\"))\n",
    "    print(x/y)\n",
    "except ArithmeticError:\n",
    "    print(\"ArithmeticError\")\n",
    "    #Error specfic code\n",
    "    #Exception ZeroDivisionError(perform math operation to correct it)\n",
    "except ZeroDivisionError:\n",
    "    print(\"Cant Divide with Zero\")\n",
    "    #Error specfic code\n",
    "    #Exception ZeroDivisionError(perform math operation to correct it)\n",
    "except FileNotFoundError: \n",
    "    print(\"FileNotFoundError\")\n",
    "    #Error specfic code -- Higly recommended\n",
    "    #Exception FileNotFoundError(use local file to correct)\n",
    "except ValueError: \n",
    "    print(\"Provide Int Value only\")\n",
    "    #Error specfic code -- Higly recommended\n",
    "    #Exception FileNotFoundError(use local file to correct)"
   ]
  },
  {
   "cell_type": "code",
   "execution_count": 44,
   "metadata": {},
   "outputs": [
    {
     "name": "stdout",
     "output_type": "stream",
     "text": [
      "Enter First Number Here:1\n",
      "Enter Second Number Here:0\n",
      "ZeroDivisionError\n"
     ]
    }
   ],
   "source": [
    "# pvm is always moves from top to bottom on exceptions \n",
    "try:\n",
    "    x = int(input(\"Enter First Number Here:\"))\n",
    "    y = int(input(\"Enter Second Number Here:\"))\n",
    "    print(x/y)\n",
    "except ZeroDivisionError:\n",
    "    print(\"ZeroDivisionError\")\n",
    "    #Error specfic code\n",
    "    #Exception ZeroDivisionError(perform math operation to correct it)\n",
    "except ArithmeticError:\n",
    "    print(\"ArithmeticError\")\n",
    "    #Error specfic code\n",
    "    #Exception ZeroDivisionError(perform math operation to correct it)\n",
    "except FileNotFoundError: \n",
    "    print(\"FileNotFoundError\")\n",
    "    #Error specfic code -- Higly recommended\n",
    "    #Exception FileNotFoundError(use local file to correct)\n",
    "except ValueError: \n",
    "    print(\"Provide Int Value only\")\n",
    "    #Error specfic code -- Higly recommended\n",
    "    #Exception FileNotFoundError(use local file to correct)"
   ]
  },
  {
   "cell_type": "code",
   "execution_count": 46,
   "metadata": {},
   "outputs": [
    {
     "name": "stdout",
     "output_type": "stream",
     "text": [
      "The Error is : division by zero\n"
     ]
    }
   ],
   "source": [
    "# single except block that can handle multiple exceptions:\n",
    "try:\n",
    "    print(10/0)\n",
    "except (ZeroDivisionError,FileNotFoundError) as msg:\n",
    "    print(\"The Error is :\",msg)"
   ]
  },
  {
   "cell_type": "code",
   "execution_count": 51,
   "metadata": {},
   "outputs": [
    {
     "name": "stdout",
     "output_type": "stream",
     "text": [
      "Enter First Number Here:1\n",
      "Enter Second Number Here:4rrr\n",
      "The Error is : invalid literal for int() with base 10: '4rrr'\n"
     ]
    }
   ],
   "source": [
    "# single except block that can handle multiple exceptions:\n",
    "try:\n",
    "    x = int(input(\"Enter First Number Here:\"))\n",
    "    y = int(input(\"Enter Second Number Here:\"))\n",
    "    print(x/y)\n",
    "except (ZeroDivisionError,ValueError) as msg:\n",
    "    print(\"The Error is :\",msg)\n",
    "    \n",
    "# when u have same handling code for multiple exceptions this can be adopted"
   ]
  },
  {
   "cell_type": "code",
   "execution_count": null,
   "metadata": {
    "collapsed": true
   },
   "outputs": [],
   "source": [
    "#Default Except Block: when unknown exception happens\n",
    "\n",
    "try:\n",
    "    #risky code\n",
    "except:\n",
    "    print(\"Default Exception\")\n"
   ]
  },
  {
   "cell_type": "code",
   "execution_count": 54,
   "metadata": {},
   "outputs": [
    {
     "name": "stdout",
     "output_type": "stream",
     "text": [
      "Enter First Number Here:34\n",
      "Enter Second Number Here:dsfsdf\n",
      "Default Exception\n"
     ]
    }
   ],
   "source": [
    "#Default Except Block: when unknown exception happens (any type of error (except:))\n",
    "#*** however defualt except block is should be placed last (else its syntax error)\n",
    "\n",
    "try:\n",
    "    x = int(input(\"Enter First Number Here:\"))\n",
    "    y = int(input(\"Enter Second Number Here:\"))\n",
    "    print(x/y)\n",
    "\n",
    "except ZeroDivisionError as msg:\n",
    "    print(\"The Error is : \",msg)\n",
    "except:\n",
    "    print(\"Default Exception\")\n"
   ]
  },
  {
   "cell_type": "code",
   "execution_count": 1,
   "metadata": {},
   "outputs": [
    {
     "ename": "SyntaxError",
     "evalue": "default 'except:' must be last (<ipython-input-1-ce5ba6b577d4>, line 7)",
     "output_type": "error",
     "traceback": [
      "\u001b[0;36m  File \u001b[0;32m\"<ipython-input-1-ce5ba6b577d4>\"\u001b[0;36m, line \u001b[0;32m7\u001b[0m\n\u001b[0;31m    print(x/y)\u001b[0m\n\u001b[0m           ^\u001b[0m\n\u001b[0;31mSyntaxError\u001b[0m\u001b[0;31m:\u001b[0m default 'except:' must be last\n"
     ]
    }
   ],
   "source": [
    "#Default Except Block: when unknown exception happens (any type of error (except:))\n",
    "#*** however defualt except block is should be placed last (else its syntax error)\n",
    "\n",
    "try:\n",
    "    x = int(input(\"Enter First Number Here:\"))\n",
    "    y = int(input(\"Enter Second Number Here:\"))\n",
    "    print(x/y)\n",
    "\n",
    "except:\n",
    "    print(\"Default Exception\")\n",
    "except ZeroDivisionError as msg:\n",
    "    print(\"The Error is : \",msg)\n"
   ]
  },
  {
   "cell_type": "markdown",
   "metadata": {},
   "source": [
    "# The ways we use except block"
   ]
  },
  {
   "cell_type": "code",
   "execution_count": 55,
   "metadata": {
    "collapsed": true
   },
   "outputs": [],
   "source": [
    "# the ways we use except block\n",
    "#1 except ZeroDivisionError:\n",
    "#2 except ZeroDivisionError as msg:\n",
    "#3 except (ZeroDivisionError,ValueError):\n",
    "#4 except (ZeroDivisionError,ValueError) as msg:\n",
    "#5 except:"
   ]
  },
  {
   "cell_type": "markdown",
   "metadata": {},
   "source": [
    "# finally Block"
   ]
  },
  {
   "cell_type": "code",
   "execution_count": null,
   "metadata": {
    "collapsed": true
   },
   "outputs": [],
   "source": [
    "# finally Block:\n",
    "# opening data base connection(resource allocation or creation)\n",
    "# Reading Data(using resource)\n",
    "# Closing Data Base Connection(closing resource) this is called (resource de-allocation code/clean-up code)\n"
   ]
  },
  {
   "cell_type": "code",
   "execution_count": null,
   "metadata": {
    "collapsed": true
   },
   "outputs": [],
   "source": [
    "try:\n",
    "    # opening data base connection(resource allocation or creation)\n",
    "    # Reading Data(using resource)\n",
    "    # Closing Data Base Connection(closing resource\n",
    "\n",
    "# placing cleanup code in try block is not recommended,b'cause while reading data if an exception occurs then immediately\n",
    "# the control goes to except block then the data base connetion is not closed no gaurntee that all satements in try\n",
    "# block will be executed "
   ]
  },
  {
   "cell_type": "code",
   "execution_count": null,
   "metadata": {
    "collapsed": true
   },
   "outputs": [],
   "source": [
    "try:\n",
    "    # opening data base connection(resource allocation or creation)\n",
    "    # Reading Data(using resource)\n",
    "except:\n",
    "    # Closing Data Base Connection(closing resource)\n",
    "    \n",
    "# placing cleanup code in except block is not recommended,b'cause if there is no exception then the database connection\n",
    "# is not closed again, hence not recommended to not have \n",
    "# Closing Data Base Connection(closing resource) in except block"
   ]
  },
  {
   "cell_type": "code",
   "execution_count": null,
   "metadata": {
    "collapsed": true
   },
   "outputs": [],
   "source": [
    "try:\n",
    "    # opening data base connection(resource allocation or creation)\n",
    "    # Reading Data(using resource)\n",
    "except:\n",
    "    # Exception code\n",
    "finally:\n",
    "    # Closing Data Base Connection(closing resource)\n",
    "\n",
    "# finally Block: any situation the finally block is executed "
   ]
  },
  {
   "cell_type": "code",
   "execution_count": null,
   "metadata": {
    "collapsed": true
   },
   "outputs": [],
   "source": [
    "try:\n",
    "    # risky code\n",
    "except:\n",
    "    # Exception code\n",
    "finally:\n",
    "    # Clean up code\n",
    "\n",
    "# finally Block: any situation the finally block is executed "
   ]
  },
  {
   "cell_type": "code",
   "execution_count": 56,
   "metadata": {},
   "outputs": [
    {
     "name": "stdout",
     "output_type": "stream",
     "text": [
      "try\n",
      "finally\n"
     ]
    }
   ],
   "source": [
    "#Case1: if no exception finally block executed\n",
    "try:\n",
    "    print(\"try\")\n",
    "except (ZeroDivisionError,ValueError) as msg:\n",
    "    print(\"The Error is :\",msg)\n",
    "finally:\n",
    "    print(\"finally\")\n",
    "    \n",
    "    "
   ]
  },
  {
   "cell_type": "code",
   "execution_count": 57,
   "metadata": {},
   "outputs": [
    {
     "name": "stdout",
     "output_type": "stream",
     "text": [
      "The Error is : division by zero\n",
      "finally\n"
     ]
    }
   ],
   "source": [
    "#Case2: if exception occured but handled \n",
    "try:\n",
    "    print(10/0)\n",
    "except (ZeroDivisionError,ValueError) as msg:\n",
    "    print(\"The Error is :\",msg)\n",
    "finally:\n",
    "    print(\"finally\")\n",
    "    "
   ]
  },
  {
   "cell_type": "code",
   "execution_count": 3,
   "metadata": {},
   "outputs": [
    {
     "name": "stdout",
     "output_type": "stream",
     "text": [
      "finally\n"
     ]
    },
    {
     "ename": "ZeroDivisionError",
     "evalue": "division by zero",
     "output_type": "error",
     "traceback": [
      "\u001b[0;31m---------------------------------------------------------------------------\u001b[0m",
      "\u001b[0;31mZeroDivisionError\u001b[0m                         Traceback (most recent call last)",
      "\u001b[0;32m<ipython-input-3-6ccdc3c6d4b1>\u001b[0m in \u001b[0;36m<module>\u001b[0;34m()\u001b[0m\n\u001b[1;32m      2\u001b[0m \u001b[0;32mtry\u001b[0m\u001b[0;34m:\u001b[0m\u001b[0;34m\u001b[0m\u001b[0m\n\u001b[1;32m      3\u001b[0m     \u001b[0;31m#print(\"try\")\u001b[0m\u001b[0;34m\u001b[0m\u001b[0;34m\u001b[0m\u001b[0m\n\u001b[0;32m----> 4\u001b[0;31m     \u001b[0mprint\u001b[0m\u001b[0;34m(\u001b[0m\u001b[0;36m10\u001b[0m\u001b[0;34m/\u001b[0m\u001b[0;36m0\u001b[0m\u001b[0;34m)\u001b[0m\u001b[0;34m\u001b[0m\u001b[0m\n\u001b[0m\u001b[1;32m      5\u001b[0m \u001b[0;32mexcept\u001b[0m \u001b[0mValueError\u001b[0m \u001b[0;32mas\u001b[0m \u001b[0mmsg\u001b[0m\u001b[0;34m:\u001b[0m\u001b[0;34m\u001b[0m\u001b[0m\n\u001b[1;32m      6\u001b[0m     \u001b[0mprint\u001b[0m\u001b[0;34m(\u001b[0m\u001b[0;34m\"The Error is :\"\u001b[0m\u001b[0;34m,\u001b[0m\u001b[0mmsg\u001b[0m\u001b[0;34m)\u001b[0m\u001b[0;34m\u001b[0m\u001b[0m\n",
      "\u001b[0;31mZeroDivisionError\u001b[0m: division by zero"
     ]
    }
   ],
   "source": [
    "#Case2: if exception occured but not handled \n",
    "try:\n",
    "    #print(\"try\")\n",
    "    print(10/0)\n",
    "except ValueError as msg:\n",
    "    print(\"The Error is :\",msg)\n",
    "finally:\n",
    "    print(\"finally\")\n",
    "    "
   ]
  },
  {
   "cell_type": "markdown",
   "metadata": {
    "collapsed": true
   },
   "source": [
    "## os._exit(0)\n",
    "### in this case finally block not executed (kills the kernel)"
   ]
  },
  {
   "cell_type": "code",
   "execution_count": null,
   "metadata": {
    "collapsed": true
   },
   "outputs": [],
   "source": [
    "\n",
    "import os\n",
    "try:\n",
    "    print(\"try\")\n",
    "    os._exit(0)\n",
    "except:\n",
    "    print(\"exception\")\n",
    "finally:\n",
    "    print(\"finally\")"
   ]
  },
  {
   "cell_type": "code",
   "execution_count": 2,
   "metadata": {
    "collapsed": true
   },
   "outputs": [],
   "source": [
    "# control flow in try except and finally blocks\n"
   ]
  },
  {
   "cell_type": "code",
   "execution_count": null,
   "metadata": {
    "collapsed": true
   },
   "outputs": [],
   "source": [
    "# if no exception\n",
    "try:\n",
    "    # statement-1\n",
    "    # statement-2\n",
    "    # statement-3\n",
    "except:\n",
    "    # statement-4\n",
    "finally:\n",
    "    # statement-5\n",
    "    \n",
    "# statement-6\n",
    "\n",
    "#ans --> statement1,2,3,5,6 (NT)"
   ]
  },
  {
   "cell_type": "code",
   "execution_count": null,
   "metadata": {
    "collapsed": true
   },
   "outputs": [],
   "source": [
    "# if exception at 2 and matched except block availble\n",
    "try:\n",
    "    # statement-1\n",
    "    # statement-2\n",
    "    # statement-3\n",
    "except:\n",
    "    # statement-4\n",
    "finally:\n",
    "    # statement-5\n",
    "    \n",
    "# statement-6\n",
    "\n",
    "#ans --> statement1,4,5,6 (NT)"
   ]
  },
  {
   "cell_type": "code",
   "execution_count": null,
   "metadata": {
    "collapsed": true
   },
   "outputs": [],
   "source": [
    "# if exception at 2 and matching except block not availble\n",
    "try:\n",
    "    # statement-1\n",
    "    # statement-2\n",
    "    # statement-3\n",
    "except:\n",
    "    # statement-4\n",
    "finally:\n",
    "    # statement-5\n",
    "    \n",
    "# statement-6\n",
    "\n",
    "#ans --> statement1 and 5 (AT)"
   ]
  },
  {
   "cell_type": "code",
   "execution_count": null,
   "metadata": {
    "collapsed": true
   },
   "outputs": [],
   "source": [
    "# if exception at 2 and matching except block not availble\n",
    "try:\n",
    "    # statement-1\n",
    "    # statement-2\n",
    "    # statement-3\n",
    "except:\n",
    "    # statement-4\n",
    "finally:\n",
    "    # statement-5\n",
    "    \n",
    "# statement-6\n",
    "\n",
    "#ans --> statement1 and 5 (AT)"
   ]
  },
  {
   "cell_type": "code",
   "execution_count": null,
   "metadata": {
    "collapsed": true
   },
   "outputs": [],
   "source": [
    "# if exception at 4 \n",
    "try:\n",
    "    # statement-1\n",
    "    # statement-2\n",
    "    # statement-3\n",
    "except:\n",
    "    # statement-4\n",
    "finally:\n",
    "    # statement-5\n",
    "    \n",
    "# statement-6\n",
    "\n",
    "#ans --> statement5  (AT)"
   ]
  },
  {
   "cell_type": "code",
   "execution_count": null,
   "metadata": {
    "collapsed": true
   },
   "outputs": [],
   "source": [
    "# if exception at 5 and 6\n",
    "try:\n",
    "    # statement-1\n",
    "    # statement-2\n",
    "    # statement-3\n",
    "except:\n",
    "    # statement-4\n",
    "finally:\n",
    "    # statement-5\n",
    "    \n",
    "# statement-6\n",
    "\n",
    "#ans --> always (AT)"
   ]
  },
  {
   "cell_type": "markdown",
   "metadata": {
    "collapsed": true
   },
   "source": [
    "# Nested try except finally blocks"
   ]
  },
  {
   "cell_type": "code",
   "execution_count": null,
   "metadata": {
    "collapsed": true
   },
   "outputs": [],
   "source": [
    "try:\n",
    "    # statemement-1\n",
    "    \n",
    "    try:\n",
    "        #statement-2(very risky code)\n",
    "    except:\n",
    "        #statement-2a\n",
    "    finally:\n",
    "        #statement-2b\n",
    "    \n",
    "    # statemement-1\n",
    "    # statemement-1\n",
    "    # statemement-1\n",
    "    \n",
    "except:\n",
    "    # statement-1a\n",
    "finally:\n",
    "    # statement-1b"
   ]
  },
  {
   "cell_type": "code",
   "execution_count": 13,
   "metadata": {},
   "outputs": [
    {
     "name": "stdout",
     "output_type": "stream",
     "text": [
      "outer try block\n",
      "inner try block\n",
      "inner except block\n",
      "this is  division by zero\n",
      "inner finally block\n",
      "outer finally block\n"
     ]
    }
   ],
   "source": [
    "try:\n",
    "    print(\"outer try block\")\n",
    "    try:\n",
    "        print(\"inner try block\")\n",
    "        print(10/0)\n",
    "    except ZeroDivisionError as msg:\n",
    "        print(\"inner except block\")\n",
    "        print(\"this is \",msg)\n",
    "    finally:\n",
    "        print(\"inner finally block\")\n",
    "except:\n",
    "    print(\"outer except block\")\n",
    "finally:\n",
    "    print(\"outer finally block\")"
   ]
  },
  {
   "cell_type": "code",
   "execution_count": null,
   "metadata": {
    "collapsed": true
   },
   "outputs": [],
   "source": [
    "try:\n",
    "    #statement -1\n",
    "    #statement -2\n",
    "    #statement -3\n",
    "    \n",
    "    try:\n",
    "        #statement -4\n",
    "        #statement -5\n",
    "        #statement -6\n",
    "    except:\n",
    "        #statement -7\n",
    "    finally:\n",
    "        #statement -8\n",
    "        \n",
    "    #statement -9\n",
    "    \n",
    "except:\n",
    "    #statement -10\n",
    "finally:\n",
    "    #statement -11\n",
    "    \n",
    "#statement -12\n",
    "        "
   ]
  },
  {
   "cell_type": "markdown",
   "metadata": {},
   "source": [
    "# Test Cases"
   ]
  },
  {
   "cell_type": "code",
   "execution_count": null,
   "metadata": {
    "collapsed": true
   },
   "outputs": [],
   "source": [
    "# case1: if there is no exception \n",
    "try:\n",
    "    #statement -1\n",
    "    #statement -2\n",
    "    #statement -3\n",
    "    \n",
    "    try:\n",
    "        #statement -4\n",
    "        #statement -5\n",
    "        #statement -6\n",
    "    except:\n",
    "        #statement -7\n",
    "    finally:\n",
    "        #statement -8\n",
    "        \n",
    "    #statement -9\n",
    "    \n",
    "except:\n",
    "    #statement -10\n",
    "finally:\n",
    "    #statement -11\n",
    "    \n",
    "#statement -12\n",
    "\n",
    "\n",
    "# ANS: statement1,2,3,4,5,6,8,9,11,12 (NT)"
   ]
  },
  {
   "cell_type": "code",
   "execution_count": null,
   "metadata": {
    "collapsed": true
   },
   "outputs": [],
   "source": [
    "# case2: if an exception raised at 2 and corresponding except block matched\n",
    "try:\n",
    "    #statement -1\n",
    "    #statement -2\n",
    "    #statement -3\n",
    "    \n",
    "    try:\n",
    "        #statement -4\n",
    "        #statement -5\n",
    "        #statement -6\n",
    "    except:\n",
    "        #statement -7\n",
    "    finally:\n",
    "        #statement -8\n",
    "        \n",
    "    #statement -9\n",
    "    \n",
    "except:\n",
    "    #statement -10\n",
    "finally:\n",
    "    #statement -11\n",
    "    \n",
    "#statement -12\n",
    "\n",
    " \n",
    "# ANS: statement1,10,11,12 (NT)"
   ]
  },
  {
   "cell_type": "code",
   "execution_count": null,
   "metadata": {
    "collapsed": true
   },
   "outputs": [],
   "source": [
    "# case3: if an exception raised at 2 and corresponding except block not matched \n",
    "try:\n",
    "    #statement -1\n",
    "    #statement -2\n",
    "    #statement -3\n",
    "    \n",
    "    try:\n",
    "        #statement -4\n",
    "        #statement -5\n",
    "        #statement -6\n",
    "    except:\n",
    "        #statement -7\n",
    "    finally:\n",
    "        #statement -8\n",
    "        \n",
    "    #statement -9\n",
    "    \n",
    "except:\n",
    "    #statement -10\n",
    "finally:\n",
    "    #statement -11\n",
    "    \n",
    "#statement -12\n",
    "\n",
    "\n",
    "# ANS: statement1,11 (AT)"
   ]
  },
  {
   "cell_type": "code",
   "execution_count": null,
   "metadata": {
    "collapsed": true
   },
   "outputs": [],
   "source": [
    "# case4: if an exception raised at 5 and corresponding inner except block matched\n",
    "try:\n",
    "    #statement -1\n",
    "    #statement -2\n",
    "    #statement -3\n",
    "    \n",
    "    try:\n",
    "        #statement -4\n",
    "        #statement -5\n",
    "        #statement -6\n",
    "    except:\n",
    "        #statement -7\n",
    "    finally:\n",
    "        #statement -8\n",
    "        \n",
    "    #statement -9\n",
    "    \n",
    "except:\n",
    "    #statement -10\n",
    "finally:\n",
    "    #statement -11\n",
    "    \n",
    "#statement -12\n",
    "\n",
    " \n",
    "# ANS: statement1,2,3,4,7,8,9,11,12 (NT)"
   ]
  },
  {
   "cell_type": "code",
   "execution_count": null,
   "metadata": {
    "collapsed": true
   },
   "outputs": [],
   "source": [
    "# case5: if an exception raised at 5 and corresponding inner except not block matched but outer except matched\n",
    "try:\n",
    "    #statement -1\n",
    "    #statement -2\n",
    "    #statement -3\n",
    "    \n",
    "    try:\n",
    "        #statement -4\n",
    "        #statement -5\n",
    "        #statement -6\n",
    "    except:\n",
    "        #statement -7\n",
    "    finally:\n",
    "        #statement -8\n",
    "        \n",
    "    #statement -9\n",
    "    \n",
    "except:\n",
    "    #statement -10\n",
    "finally:\n",
    "    #statement -11\n",
    "    \n",
    "#statement -12\n",
    "\n",
    "\n",
    "# ANS: statement1,2,3,4,8,10,11,12 (NT)"
   ]
  },
  {
   "cell_type": "code",
   "execution_count": null,
   "metadata": {
    "collapsed": true
   },
   "outputs": [],
   "source": [
    "# case6: if an exception raised at 5 and both innner and outer corresponding except block not matched \n",
    "\n",
    "try:\n",
    "    #statement -1\n",
    "    #statement -2\n",
    "    #statement -3\n",
    "    \n",
    "    try:\n",
    "        #statement -4\n",
    "        #statement -5\n",
    "        #statement -6\n",
    "    except:\n",
    "        #statement -7\n",
    "    finally:\n",
    "        #statement -8\n",
    "        \n",
    "    #statement -9\n",
    "    \n",
    "except:\n",
    "    #statement -10\n",
    "finally:\n",
    "    #statement -11\n",
    "    \n",
    "#statement -12\n",
    "\n",
    "# ANS: statement1,2,3,4,8,11 (AT)"
   ]
  },
  {
   "cell_type": "code",
   "execution_count": null,
   "metadata": {
    "collapsed": true
   },
   "outputs": [],
   "source": [
    "# case7: if an exception raised at 7 and corresponding except block matched \n",
    "try:\n",
    "    #statement -1\n",
    "    #statement -2\n",
    "    #statement -3\n",
    "    \n",
    "    try:\n",
    "        #statement -4\n",
    "        #statement -5\n",
    "        #statement -6\n",
    "    except:\n",
    "        #statement -7\n",
    "    finally:\n",
    "        #statement -8\n",
    "        \n",
    "    #statement -9\n",
    "    \n",
    "except:\n",
    "    #statement -10\n",
    "finally:\n",
    "    #statement -11\n",
    "    \n",
    "#statement -12\n",
    "\n",
    "\n",
    "# ANS: statement1,2,3,(4*),(5*),(6*),8,10,11,12 (NT)"
   ]
  },
  {
   "cell_type": "code",
   "execution_count": null,
   "metadata": {
    "collapsed": true
   },
   "outputs": [],
   "source": [
    "# case8: if an exception raised at 7 and corresponding except block not matched \n",
    "try:\n",
    "    #statement -1\n",
    "    #statement -2\n",
    "    #statement -3\n",
    "    \n",
    "    try:\n",
    "        #statement -4\n",
    "        #statement -5\n",
    "        #statement -6\n",
    "    except:\n",
    "        #statement -7\n",
    "    finally:\n",
    "        #statement -8\n",
    "        \n",
    "    #statement -9\n",
    "    \n",
    "except:\n",
    "    #statement -10\n",
    "finally:\n",
    "    #statement -11\n",
    "    \n",
    "#statement -12\n",
    "\n",
    "\n",
    "# ANS: statement1,2,3,(4*),(5*),(6*),8,11 (AT)"
   ]
  },
  {
   "cell_type": "code",
   "execution_count": null,
   "metadata": {
    "collapsed": true
   },
   "outputs": [],
   "source": [
    "# case9: if an exception raised at 8 and corresponding except block not matched\n",
    "try:\n",
    "    #statement -1\n",
    "    #statement -2\n",
    "    #statement -3\n",
    "    \n",
    "    try:\n",
    "        #statement -4\n",
    "        #statement -5\n",
    "        #statement -6\n",
    "    except:\n",
    "        #statement -7\n",
    "    finally:\n",
    "        #statement -8\n",
    "        \n",
    "    #statement -9\n",
    "    \n",
    "except:\n",
    "    #statement -10\n",
    "finally:\n",
    "    #statement -11\n",
    "    \n",
    "#statement -12\n",
    "\n",
    " \n",
    "# ANS: statement1,2,3,(4*),(5*),(6*),(7*),11 (AT)"
   ]
  },
  {
   "cell_type": "code",
   "execution_count": null,
   "metadata": {
    "collapsed": true
   },
   "outputs": [],
   "source": [
    "# case10: if an exception raised at 8 and corresponding except block matched \n",
    "try:\n",
    "    #statement -1\n",
    "    #statement -2\n",
    "    #statement -3\n",
    "    \n",
    "    try:\n",
    "        #statement -4\n",
    "        #statement -5\n",
    "        #statement -6\n",
    "    except:\n",
    "        #statement -7\n",
    "    finally:\n",
    "        #statement -8\n",
    "        \n",
    "    #statement -9\n",
    "    \n",
    "except:\n",
    "    #statement -10\n",
    "finally:\n",
    "    #statement -11\n",
    "    \n",
    "#statement -12\n",
    "\n",
    "# ANS: statement1,10,11,12 (NT)"
   ]
  },
  {
   "cell_type": "code",
   "execution_count": null,
   "metadata": {
    "collapsed": true
   },
   "outputs": [],
   "source": [
    "# case10: if an exception raised at 9 and corresponding except block matched \n",
    "try:\n",
    "    #statement -1\n",
    "    #statement -2\n",
    "    #statement -3\n",
    "    \n",
    "    try:\n",
    "        #statement -4\n",
    "        #statement -5\n",
    "        #statement -6\n",
    "    except:\n",
    "        #statement -7\n",
    "    finally:\n",
    "        #statement -8\n",
    "        \n",
    "    #statement -9\n",
    "    \n",
    "except:\n",
    "    #statement -10\n",
    "finally:\n",
    "    #statement -11\n",
    "    \n",
    "#statement -12\n",
    "\n",
    "# ANS: statement1,2,3,(4*),(5*),(6*),(7*),8,10,11,12 (NT)"
   ]
  },
  {
   "cell_type": "code",
   "execution_count": null,
   "metadata": {
    "collapsed": true
   },
   "outputs": [],
   "source": [
    "# case11: if an exception raised at 10 and corresponding except block matched \n",
    "try:\n",
    "    #statement -1\n",
    "    #statement -2\n",
    "    #statement -3\n",
    "    \n",
    "    try:\n",
    "        #statement -4\n",
    "        #statement -5\n",
    "        #statement -6\n",
    "    except:\n",
    "        #statement -7\n",
    "    finally:\n",
    "        #statement -8\n",
    "        \n",
    "    #statement -9\n",
    "    \n",
    "except:\n",
    "    #statement -10\n",
    "finally:\n",
    "    #statement -11\n",
    "    \n",
    "#statement -12\n",
    "\n",
    "# ANS: statement (1*),(2*),(3*)11 (AT)"
   ]
  },
  {
   "cell_type": "code",
   "execution_count": null,
   "metadata": {
    "collapsed": true
   },
   "outputs": [],
   "source": [
    "#case12: if an exception raised at 11,12 \n",
    "try:\n",
    "    #statement -1\n",
    "    #statement -2\n",
    "    #statement -3\n",
    "    \n",
    "    try:\n",
    "        #statement -4\n",
    "        #statement -5\n",
    "        #statement -6\n",
    "    except:\n",
    "        #statement -7\n",
    "    finally:\n",
    "        #statement -8\n",
    "        \n",
    "    #statement -9\n",
    "    \n",
    "except:\n",
    "    #statement -10\n",
    "finally:\n",
    "    #statement -11\n",
    "    \n",
    "#statement -12\n",
    "\n",
    "\n",
    "#Ans always (AT)"
   ]
  },
  {
   "cell_type": "markdown",
   "metadata": {},
   "source": [
    "# else block"
   ]
  },
  {
   "cell_type": "code",
   "execution_count": 14,
   "metadata": {
    "collapsed": true
   },
   "outputs": [],
   "source": [
    "# else block: we can use try except finally block\n"
   ]
  },
  {
   "cell_type": "code",
   "execution_count": null,
   "metadata": {
    "collapsed": true
   },
   "outputs": [],
   "source": [
    "try:\n",
    "    #risky code\n",
    "except:\n",
    "    #will execute if there is an exception in the try block\n",
    "else:\n",
    "    #will execute if there is no exception in the try block\n",
    "finally:\n",
    "    #will execute allways"
   ]
  },
  {
   "cell_type": "code",
   "execution_count": 16,
   "metadata": {},
   "outputs": [
    {
     "name": "stdout",
     "output_type": "stream",
     "text": [
      "try\n",
      "except\n",
      "finally\n"
     ]
    }
   ],
   "source": [
    "#exmaple:\n",
    "try:\n",
    "    print(\"try\")\n",
    "    print(10/0)\n",
    "except:\n",
    "    print(\"except\")\n",
    "else:\n",
    "    print(\"else\")\n",
    "finally:\n",
    "    print(\"finally\")"
   ]
  },
  {
   "cell_type": "code",
   "execution_count": 17,
   "metadata": {},
   "outputs": [
    {
     "name": "stdout",
     "output_type": "stream",
     "text": [
      "try\n",
      "else\n",
      "finally\n"
     ]
    }
   ],
   "source": [
    "#exmaple:\n",
    "try:\n",
    "    print(\"try\")\n",
    "    #print(10/0)\n",
    "except:\n",
    "    print(\"except\")\n",
    "else:\n",
    "    print(\"else\")\n",
    "finally:\n",
    "    print(\"finally\")"
   ]
  },
  {
   "cell_type": "markdown",
   "metadata": {
    "collapsed": true
   },
   "source": [
    "# various possible combinations of try except else and finally blocks"
   ]
  },
  {
   "cell_type": "code",
   "execution_count": 2,
   "metadata": {},
   "outputs": [
    {
     "ename": "SyntaxError",
     "evalue": "unexpected EOF while parsing (<ipython-input-2-f1304d28b385>, line 3)",
     "output_type": "error",
     "traceback": [
      "\u001b[0;36m  File \u001b[0;32m\"<ipython-input-2-f1304d28b385>\"\u001b[0;36m, line \u001b[0;32m3\u001b[0m\n\u001b[0;31m    print('try')\u001b[0m\n\u001b[0m                ^\u001b[0m\n\u001b[0;31mSyntaxError\u001b[0m\u001b[0;31m:\u001b[0m unexpected EOF while parsing\n"
     ]
    }
   ],
   "source": [
    "#case 1 try without except or finally is invalid\n",
    "try:\n",
    "    print('try')\n"
   ]
  },
  {
   "cell_type": "code",
   "execution_count": 22,
   "metadata": {},
   "outputs": [
    {
     "ename": "SyntaxError",
     "evalue": "invalid syntax (<ipython-input-22-68d21a1dd38e>, line 2)",
     "output_type": "error",
     "traceback": [
      "\u001b[0;36m  File \u001b[0;32m\"<ipython-input-22-68d21a1dd38e>\"\u001b[0;36m, line \u001b[0;32m2\u001b[0m\n\u001b[0;31m    except:\u001b[0m\n\u001b[0m         ^\u001b[0m\n\u001b[0;31mSyntaxError\u001b[0m\u001b[0;31m:\u001b[0m invalid syntax\n"
     ]
    }
   ],
   "source": [
    "#case 2  only except with out try is always invalid\n",
    "except:\n",
    "    print('except')"
   ]
  },
  {
   "cell_type": "code",
   "execution_count": 24,
   "metadata": {},
   "outputs": [
    {
     "ename": "SyntaxError",
     "evalue": "invalid syntax (<ipython-input-24-63858e5004cd>, line 2)",
     "output_type": "error",
     "traceback": [
      "\u001b[0;36m  File \u001b[0;32m\"<ipython-input-24-63858e5004cd>\"\u001b[0;36m, line \u001b[0;32m2\u001b[0m\n\u001b[0;31m    else:\u001b[0m\n\u001b[0m       ^\u001b[0m\n\u001b[0;31mSyntaxError\u001b[0m\u001b[0;31m:\u001b[0m invalid syntax\n"
     ]
    }
   ],
   "source": [
    "#case 3 invalid \n",
    "else:\n",
    "    print('else')"
   ]
  },
  {
   "cell_type": "code",
   "execution_count": 3,
   "metadata": {},
   "outputs": [
    {
     "ename": "SyntaxError",
     "evalue": "invalid syntax (<ipython-input-3-9827c42a261e>, line 2)",
     "output_type": "error",
     "traceback": [
      "\u001b[0;36m  File \u001b[0;32m\"<ipython-input-3-9827c42a261e>\"\u001b[0;36m, line \u001b[0;32m2\u001b[0m\n\u001b[0;31m    finally:\u001b[0m\n\u001b[0m          ^\u001b[0m\n\u001b[0;31mSyntaxError\u001b[0m\u001b[0;31m:\u001b[0m invalid syntax\n"
     ]
    }
   ],
   "source": [
    "#case 4 invalid  \n",
    "finally:\n",
    "    print('finally')"
   ]
  },
  {
   "cell_type": "code",
   "execution_count": 25,
   "metadata": {},
   "outputs": [
    {
     "name": "stdout",
     "output_type": "stream",
     "text": [
      "Hello Try\n"
     ]
    }
   ],
   "source": [
    "#case5 valid  \n",
    "try:\n",
    "    print('Hello Try')\n",
    "except:\n",
    "    print('Except')"
   ]
  },
  {
   "cell_type": "code",
   "execution_count": 26,
   "metadata": {},
   "outputs": [
    {
     "name": "stdout",
     "output_type": "stream",
     "text": [
      "Hello Try\n",
      "finally\n"
     ]
    }
   ],
   "source": [
    "#case6 valid  \n",
    "try:\n",
    "    print('Hello Try')\n",
    "finally:\n",
    "    print('finally')"
   ]
  },
  {
   "cell_type": "code",
   "execution_count": 28,
   "metadata": {},
   "outputs": [
    {
     "name": "stdout",
     "output_type": "stream",
     "text": [
      "try\n",
      "else\n"
     ]
    }
   ],
   "source": [
    "#case7 valid  \n",
    "try:\n",
    "    print('try')\n",
    "except:\n",
    "    print('exception')   \n",
    "else:\n",
    "    print('else')"
   ]
  },
  {
   "cell_type": "code",
   "execution_count": 29,
   "metadata": {},
   "outputs": [
    {
     "ename": "SyntaxError",
     "evalue": "invalid syntax (<ipython-input-29-7f060b9461da>, line 4)",
     "output_type": "error",
     "traceback": [
      "\u001b[0;36m  File \u001b[0;32m\"<ipython-input-29-7f060b9461da>\"\u001b[0;36m, line \u001b[0;32m4\u001b[0m\n\u001b[0;31m    else:\u001b[0m\n\u001b[0m       ^\u001b[0m\n\u001b[0;31mSyntaxError\u001b[0m\u001b[0;31m:\u001b[0m invalid syntax\n"
     ]
    }
   ],
   "source": [
    "#case8 in-valid  (without except block we can not have else block)\n",
    "try:\n",
    "    print('try')\n",
    "else:\n",
    "    print('else')"
   ]
  },
  {
   "cell_type": "code",
   "execution_count": 30,
   "metadata": {},
   "outputs": [
    {
     "ename": "SyntaxError",
     "evalue": "invalid syntax (<ipython-input-30-68673d237ed1>, line 3)",
     "output_type": "error",
     "traceback": [
      "\u001b[0;36m  File \u001b[0;32m\"<ipython-input-30-68673d237ed1>\"\u001b[0;36m, line \u001b[0;32m3\u001b[0m\n\u001b[0;31m    else:\u001b[0m\n\u001b[0m       ^\u001b[0m\n\u001b[0;31mSyntaxError\u001b[0m\u001b[0;31m:\u001b[0m invalid syntax\n"
     ]
    }
   ],
   "source": [
    "#case9  in-valid  (without except block we can not have else block)\n",
    "try:\n",
    "    print('try')\n",
    "else:\n",
    "    print('else')\n",
    "finally:\n",
    "    print('finally')"
   ]
  },
  {
   "cell_type": "code",
   "execution_count": 32,
   "metadata": {},
   "outputs": [
    {
     "name": "stdout",
     "output_type": "stream",
     "text": [
      "try\n",
      "finally\n"
     ]
    }
   ],
   "source": [
    "#case10 valid  \n",
    "try:\n",
    "    print('try')\n",
    "except ZeroDefaultError:\n",
    "    print('else')\n",
    "except:\n",
    "    print('else2')\n",
    "finally:\n",
    "    print('finally')"
   ]
  },
  {
   "cell_type": "code",
   "execution_count": 33,
   "metadata": {},
   "outputs": [
    {
     "ename": "SyntaxError",
     "evalue": "invalid syntax (<ipython-input-33-0b955d2f80d7>, line 10)",
     "output_type": "error",
     "traceback": [
      "\u001b[0;36m  File \u001b[0;32m\"<ipython-input-33-0b955d2f80d7>\"\u001b[0;36m, line \u001b[0;32m10\u001b[0m\n\u001b[0;31m    else:\u001b[0m\n\u001b[0m       ^\u001b[0m\n\u001b[0;31mSyntaxError\u001b[0m\u001b[0;31m:\u001b[0m invalid syntax\n"
     ]
    }
   ],
   "source": [
    "#case11 in-valid  (multiple else not allowed) \n",
    "#****(multiple try,else and finally not allowed)\n",
    "\n",
    "try:\n",
    "    print('try')\n",
    "except ZeroDefaultError:\n",
    "    print('else')\n",
    "else:\n",
    "    print('else2')\n",
    "else:\n",
    "    print('else2')\n",
    "finally:\n",
    "    print('finally')"
   ]
  },
  {
   "cell_type": "code",
   "execution_count": 34,
   "metadata": {},
   "outputs": [
    {
     "ename": "SyntaxError",
     "evalue": "invalid syntax (<ipython-input-34-bb31de1574e9>, line 3)",
     "output_type": "error",
     "traceback": [
      "\u001b[0;36m  File \u001b[0;32m\"<ipython-input-34-bb31de1574e9>\"\u001b[0;36m, line \u001b[0;32m3\u001b[0m\n\u001b[0;31m    print('Hi')\u001b[0m\n\u001b[0m        ^\u001b[0m\n\u001b[0;31mSyntaxError\u001b[0m\u001b[0;31m:\u001b[0m invalid syntax\n"
     ]
    }
   ],
   "source": [
    "#case12 in-valid\n",
    "try:\n",
    "    print(\"Hello\")\n",
    "print('Hi')\n",
    "except:\n",
    "    print('except')"
   ]
  },
  {
   "cell_type": "code",
   "execution_count": 35,
   "metadata": {},
   "outputs": [
    {
     "ename": "SyntaxError",
     "evalue": "invalid syntax (<ipython-input-35-5d1861f14a4b>, line 8)",
     "output_type": "error",
     "traceback": [
      "\u001b[0;36m  File \u001b[0;32m\"<ipython-input-35-5d1861f14a4b>\"\u001b[0;36m, line \u001b[0;32m8\u001b[0m\n\u001b[0;31m    except:\u001b[0m\n\u001b[0m         ^\u001b[0m\n\u001b[0;31mSyntaxError\u001b[0m\u001b[0;31m:\u001b[0m invalid syntax\n"
     ]
    }
   ],
   "source": [
    "# case13  - valid\n",
    "\n",
    "try:\n",
    "    print('try')\n",
    "except:\n",
    "    print('except')\n",
    "print('hello')#-- not allowed independent statements between two except blocks\n",
    "except:\n",
    "    print('except')\n",
    "    "
   ]
  },
  {
   "cell_type": "code",
   "execution_count": 36,
   "metadata": {},
   "outputs": [
    {
     "ename": "SyntaxError",
     "evalue": "invalid syntax (<ipython-input-36-898a626d3ac1>, line 8)",
     "output_type": "error",
     "traceback": [
      "\u001b[0;36m  File \u001b[0;32m\"<ipython-input-36-898a626d3ac1>\"\u001b[0;36m, line \u001b[0;32m8\u001b[0m\n\u001b[0;31m    finally:\u001b[0m\n\u001b[0m          ^\u001b[0m\n\u001b[0;31mSyntaxError\u001b[0m\u001b[0;31m:\u001b[0m invalid syntax\n"
     ]
    }
   ],
   "source": [
    "# case14\n",
    "\n",
    "try:\n",
    "    print('try')\n",
    "except:\n",
    "    print('except')\n",
    "print('hello')#-- not allowed independent statements between  except and finally blocks\n",
    "finally:\n",
    "    print('finally')"
   ]
  },
  {
   "cell_type": "code",
   "execution_count": 37,
   "metadata": {},
   "outputs": [
    {
     "ename": "SyntaxError",
     "evalue": "invalid syntax (<ipython-input-37-e7ee3b3b2c7d>, line 10)",
     "output_type": "error",
     "traceback": [
      "\u001b[0;36m  File \u001b[0;32m\"<ipython-input-37-e7ee3b3b2c7d>\"\u001b[0;36m, line \u001b[0;32m10\u001b[0m\n\u001b[0;31m    else:\u001b[0m\n\u001b[0m       ^\u001b[0m\n\u001b[0;31mSyntaxError\u001b[0m\u001b[0;31m:\u001b[0m invalid syntax\n"
     ]
    }
   ],
   "source": [
    "# case15 invalid\n",
    "\n",
    "try:\n",
    "    print('try')\n",
    "except:\n",
    "    print('except')\n",
    "print('hello')#-- not allowed independent statements between  except and else blocks\n",
    "else:\n",
    "    print('finally')"
   ]
  },
  {
   "cell_type": "code",
   "execution_count": 38,
   "metadata": {},
   "outputs": [
    {
     "name": "stdout",
     "output_type": "stream",
     "text": [
      "try\n",
      "try1\n"
     ]
    }
   ],
   "source": [
    "# case16:valid\n",
    "\n",
    "try:\n",
    "    print('try')\n",
    "except:\n",
    "    print('except')\n",
    "    \n",
    "try:\n",
    "    print('try1')\n",
    "except:\n",
    "    print('except2')"
   ]
  },
  {
   "cell_type": "code",
   "execution_count": 4,
   "metadata": {},
   "outputs": [
    {
     "name": "stdout",
     "output_type": "stream",
     "text": [
      "try\n",
      "try1\n",
      "finally\n"
     ]
    }
   ],
   "source": [
    "# case17:valid\n",
    "\n",
    "try:\n",
    "    print('try')\n",
    "except:\n",
    "    print('except')\n",
    "    \n",
    "try:\n",
    "    print('try1')\n",
    "finally:\n",
    "    print('finally')"
   ]
  },
  {
   "cell_type": "code",
   "execution_count": 39,
   "metadata": {},
   "outputs": [
    {
     "ename": "SyntaxError",
     "evalue": "invalid syntax (<ipython-input-39-8961d57d7eb7>, line 12)",
     "output_type": "error",
     "traceback": [
      "\u001b[0;36m  File \u001b[0;32m\"<ipython-input-39-8961d57d7eb7>\"\u001b[0;36m, line \u001b[0;32m12\u001b[0m\n\u001b[0;31m    finally:\u001b[0m\n\u001b[0m          ^\u001b[0m\n\u001b[0;31mSyntaxError\u001b[0m\u001b[0;31m:\u001b[0m invalid syntax\n"
     ]
    }
   ],
   "source": [
    "# case18:invalid \n",
    "\n",
    "try:\n",
    "    print('try')\n",
    "except:\n",
    "    print('except')\n",
    "    \n",
    "if 10>20 :\n",
    "    print('if')\n",
    "else:\n",
    "    print(\"else\")\n",
    "finally:\n",
    "    print('finally')"
   ]
  },
  {
   "cell_type": "code",
   "execution_count": null,
   "metadata": {
    "collapsed": true
   },
   "outputs": [],
   "source": [
    "# case 19 valid\n",
    "try:\n",
    "    print('outer try')\n",
    "    try:\n",
    "        print('inner try')\n",
    "    except:\n",
    "        print('except')\n",
    "    finally:\n",
    "        print('finally')\n",
    "except:\n",
    "    print('outer except')"
   ]
  },
  {
   "cell_type": "code",
   "execution_count": 15,
   "metadata": {},
   "outputs": [
    {
     "name": "stdout",
     "output_type": "stream",
     "text": [
      "AsId\n"
     ]
    }
   ],
   "source": [
    "# case 20 valid\n",
    "try:\n",
    "    print(\"AsId\")\n",
    "    \n",
    "except:\n",
    "    print('outer try')\n",
    "    \n",
    "    try:\n",
    "        print('inner try')\n",
    "    except:\n",
    "        print('except')\n",
    "    finally:\n",
    "        print('finally')\n",
    "    \n",
    "    print('outer except')"
   ]
  },
  {
   "cell_type": "code",
   "execution_count": 40,
   "metadata": {},
   "outputs": [
    {
     "name": "stdout",
     "output_type": "stream",
     "text": [
      "outer try\n",
      "inner try\n",
      "inner finnaly\n",
      "finally\n"
     ]
    }
   ],
   "source": [
    "# case 21 valid\n",
    "try:\n",
    "    print('outer try')\n",
    "except:\n",
    "    print('outer except')\n",
    "finally:\n",
    "    try:\n",
    "        print('inner try')\n",
    "    except:\n",
    "        print('inner except')\n",
    "    finally:\n",
    "        print('inner finnaly')\n",
    "    \n",
    "    print('finally')"
   ]
  },
  {
   "cell_type": "code",
   "execution_count": 16,
   "metadata": {},
   "outputs": [
    {
     "ename": "SyntaxError",
     "evalue": "invalid syntax (<ipython-input-16-a5bd1ee27472>, line 8)",
     "output_type": "error",
     "traceback": [
      "\u001b[0;36m  File \u001b[0;32m\"<ipython-input-16-a5bd1ee27472>\"\u001b[0;36m, line \u001b[0;32m8\u001b[0m\n\u001b[0;31m    else:\u001b[0m\n\u001b[0m       ^\u001b[0m\n\u001b[0;31mSyntaxError\u001b[0m\u001b[0;31m:\u001b[0m invalid syntax\n"
     ]
    }
   ],
   "source": [
    "#case 22 invalid\n",
    "try:\n",
    "    print('try')\n",
    "except:\n",
    "    print('except')\n",
    "try:\n",
    "    print('try')\n",
    "else:\n",
    "    print('except')"
   ]
  },
  {
   "cell_type": "code",
   "execution_count": 42,
   "metadata": {},
   "outputs": [
    {
     "ename": "IndentationError",
     "evalue": "unexpected unindent (<ipython-input-42-df9aff559560>, line 8)",
     "output_type": "error",
     "traceback": [
      "\u001b[0;36m  File \u001b[0;32m\"<ipython-input-42-df9aff559560>\"\u001b[0;36m, line \u001b[0;32m8\u001b[0m\n\u001b[0;31m    except:\u001b[0m\n\u001b[0m           ^\u001b[0m\n\u001b[0;31mIndentationError\u001b[0m\u001b[0;31m:\u001b[0m unexpected unindent\n"
     ]
    }
   ],
   "source": [
    "#case 23 invalid\n",
    "try:\n",
    "    print('outer try')\n",
    "    \n",
    "    try:\n",
    "        print('inner try')\n",
    "        \n",
    "        \n",
    "except:\n",
    "    print('except')\n",
    "finally:\n",
    "    print('finally')"
   ]
  },
  {
   "cell_type": "markdown",
   "metadata": {},
   "source": [
    "# Conclusions:\n",
    "#1 try should always have a except or finally block\n",
    "#2 except without try is invalid\n",
    "#3 whenever we are writing finally block we need try\n",
    "#4 multiple except for a single try\n",
    "#5 multiple try,else and finally\n",
    "#6 else block without except block is invalid\n",
    "#7 try-except-else-finally (ordrer is imp else syntax error)\n",
    "#8 we can have try-except-else-finally inside (try,except,else,finally) blocks nesting always allowed\n",
    "#9 Multiple else not allowed"
   ]
  },
  {
   "cell_type": "markdown",
   "metadata": {
    "collapsed": true
   },
   "source": [
    "# Types of exception in python"
   ]
  },
  {
   "cell_type": "code",
   "execution_count": 48,
   "metadata": {
    "collapsed": true
   },
   "outputs": [],
   "source": [
    "# Types of exception in python\n",
    "\n",
    "#1 predefined exception\n",
    "#2 user-defined exception (customized exception)"
   ]
  },
  {
   "cell_type": "code",
   "execution_count": 47,
   "metadata": {
    "collapsed": true
   },
   "outputs": [],
   "source": [
    "#1 predefined exception\n",
    "\n",
    "# The Exception that are automatically raised by python are called predefined errors\n",
    "# ex print(10/0)-- ZeroDivisionError\n",
    "# ex int('jack') -- ValueError"
   ]
  },
  {
   "cell_type": "code",
   "execution_count": null,
   "metadata": {
    "collapsed": true
   },
   "outputs": [],
   "source": [
    "#2 user-defined exception (customized exception)\n",
    "\n",
    "# The Exception that are defined by the user \n",
    "\n",
    "'''\n",
    "def recharge(number):\n",
    "    if num is invalid:\n",
    "        raise invalidCodeException\n",
    "'''\n",
    "     "
   ]
  },
  {
   "cell_type": "code",
   "execution_count": 49,
   "metadata": {
    "collapsed": true
   },
   "outputs": [],
   "source": [
    "# how to define our own exception:\n",
    "\n",
    "#1 every exception in python is a class that extends from exception class"
   ]
  },
  {
   "cell_type": "code",
   "execution_count": 50,
   "metadata": {
    "collapsed": true
   },
   "outputs": [],
   "source": [
    "\n",
    "class ClassName:\n",
    "    \n",
    "    def __init__(self,arg):\n",
    "        self.msg = arg     \n",
    "    "
   ]
  },
  {
   "cell_type": "code",
   "execution_count": 2,
   "metadata": {
    "collapsed": true
   },
   "outputs": [],
   "source": [
    "# To Young Excpetion\n",
    "\n",
    "class InvalidVotingAge(Exception):\n",
    "    \n",
    "    def __init__(self,arg):\n",
    "        self.msg = arg"
   ]
  },
  {
   "cell_type": "code",
   "execution_count": 3,
   "metadata": {
    "collapsed": true
   },
   "outputs": [],
   "source": [
    "# To OLD Excpetion\n",
    "\n",
    "class ValidVoter(Exception):\n",
    "    \n",
    "    def __init__(self,arg):\n",
    "        self.msg = arg"
   ]
  },
  {
   "cell_type": "code",
   "execution_count": 5,
   "metadata": {},
   "outputs": [
    {
     "name": "stdout",
     "output_type": "stream",
     "text": [
      "Enter Your Age20\n"
     ]
    },
    {
     "ename": "ValidVoter",
     "evalue": "You are Eligible to Vote",
     "output_type": "error",
     "traceback": [
      "\u001b[0;31m---------------------------------------------------------------------------\u001b[0m",
      "\u001b[0;31mValidVoter\u001b[0m                                Traceback (most recent call last)",
      "\u001b[0;32m<ipython-input-5-dc1fb82ea40f>\u001b[0m in \u001b[0;36m<module>\u001b[0;34m()\u001b[0m\n\u001b[1;32m      4\u001b[0m     \u001b[0;32mraise\u001b[0m \u001b[0mInvalidVotingAge\u001b[0m\u001b[0;34m(\u001b[0m\u001b[0;34m'To Young to Vote'\u001b[0m\u001b[0;34m)\u001b[0m\u001b[0;34m\u001b[0m\u001b[0m\n\u001b[1;32m      5\u001b[0m \u001b[0;32melse\u001b[0m\u001b[0;34m:\u001b[0m\u001b[0;34m\u001b[0m\u001b[0m\n\u001b[0;32m----> 6\u001b[0;31m     \u001b[0;32mraise\u001b[0m \u001b[0mValidVoter\u001b[0m\u001b[0;34m(\u001b[0m\u001b[0;34m'You are Eligible to Vote'\u001b[0m\u001b[0;34m)\u001b[0m\u001b[0;34m\u001b[0m\u001b[0m\n\u001b[0m\u001b[1;32m      7\u001b[0m \u001b[0;34m\u001b[0m\u001b[0m\n",
      "\u001b[0;31mValidVoter\u001b[0m: You are Eligible to Vote"
     ]
    }
   ],
   "source": [
    "age = int(input('Enter Your Age'))\n",
    "\n",
    "if age < 18:\n",
    "    raise InvalidVotingAge('To Young to Vote')\n",
    "else:\n",
    "    raise ValidVoter('You are Eligible to Vote')\n",
    "    "
   ]
  },
  {
   "cell_type": "code",
   "execution_count": 61,
   "metadata": {},
   "outputs": [
    {
     "name": "stdout",
     "output_type": "stream",
     "text": [
      "Enter Your Age18\n",
      "THE Error is : You are Eligible to Vote\n",
      "final\n"
     ]
    }
   ],
   "source": [
    "try :\n",
    "    age = int(input('Enter Your Age'))\n",
    "    \n",
    "    if age < 18:\n",
    "        raise InvalidVotingAge('To Young to Vote')\n",
    "    else:\n",
    "        raise ValidVoter('You are Eligible to Vote')\n",
    "    \n",
    "except (ValidVoter,InvalidVotingAge) as msg:\n",
    "    print('THE Error is :',msg)\n",
    "finally:\n",
    "    print('final')"
   ]
  },
  {
   "cell_type": "code",
   "execution_count": 64,
   "metadata": {
    "collapsed": true
   },
   "outputs": [],
   "source": [
    "def voter(num):\n",
    "    try:\n",
    "        age = num\n",
    "        if age < 18:\n",
    "            raise InvalidVotingAge('To Young to Vote')\n",
    "        else:\n",
    "            raise ValidVoter('You are Eligible to Vote')\n",
    "    \n",
    "    except (ValidVoter,InvalidVotingAge) as msg:\n",
    "            print('THE Error is :',msg)\n",
    "    finally:\n",
    "            print('final')"
   ]
  },
  {
   "cell_type": "code",
   "execution_count": 67,
   "metadata": {},
   "outputs": [
    {
     "name": "stdout",
     "output_type": "stream",
     "text": [
      "THE Error is : You are Eligible to Vote\n",
      "final\n"
     ]
    }
   ],
   "source": [
    "voter(45)"
   ]
  },
  {
   "cell_type": "markdown",
   "metadata": {
    "collapsed": true
   },
   "source": [
    "# logging and Dedugging"
   ]
  },
  {
   "cell_type": "code",
   "execution_count": null,
   "metadata": {
    "collapsed": true
   },
   "outputs": [],
   "source": [
    "# python inbuilt module \n",
    "# logging "
   ]
  },
  {
   "cell_type": "code",
   "execution_count": 68,
   "metadata": {
    "collapsed": true
   },
   "outputs": [],
   "source": [
    "# logging Levels \n",
    "#1--->CRITICAL value 50 (needs high attention)\n",
    "#2--->ERROR value 40 \n",
    "#3--->WARNING value  30\n",
    "#4--->INFO  value 20\n",
    "#5--->DEBUG value 10\n",
    "#6--->NOTSET value 0"
   ]
  },
  {
   "cell_type": "code",
   "execution_count": null,
   "metadata": {
    "collapsed": true
   },
   "outputs": [],
   "source": [
    "# How to implement logging\n",
    "# ans: spceify the name of the file where msg's are to stored\n",
    "# ans: level messages\n",
    "\n",
    "# we can do this by (basic.config()) of logging module \n"
   ]
  },
  {
   "cell_type": "code",
   "execution_count": null,
   "metadata": {
    "collapsed": true
   },
   "outputs": [],
   "source": [
    "#logging.basic.Config(FileName= \"<FileName>\",Level = \"<level>\")\n",
    "#if the file does not exits then it will be created"
   ]
  },
  {
   "cell_type": "code",
   "execution_count": 21,
   "metadata": {
    "collapsed": true
   },
   "outputs": [],
   "source": [
    "import logging as lg\n"
   ]
  },
  {
   "cell_type": "code",
   "execution_count": 22,
   "metadata": {},
   "outputs": [
    {
     "data": {
      "text/plain": [
       "'/Users/shashankragireddy/workspaces/01-Python NoteBooks'"
      ]
     },
     "execution_count": 22,
     "metadata": {},
     "output_type": "execute_result"
    }
   ],
   "source": [
    "pwd"
   ]
  },
  {
   "cell_type": "code",
   "execution_count": 25,
   "metadata": {},
   "outputs": [
    {
     "name": "stdout",
     "output_type": "stream",
     "text": [
      "l.txt         untitled.txt\r\n"
     ]
    }
   ],
   "source": [
    "ls *.txt"
   ]
  },
  {
   "cell_type": "code",
   "execution_count": 28,
   "metadata": {
    "collapsed": true
   },
   "outputs": [],
   "source": [
    "lg.basicConfig(Filename=\"log.txt\",level=lg.info)"
   ]
  },
  {
   "cell_type": "code",
   "execution_count": 29,
   "metadata": {},
   "outputs": [
    {
     "name": "stderr",
     "output_type": "stream",
     "text": [
      "CRITICAL:root:ji\n",
      "ERROR:root:ji\n",
      "WARNING:root:ji\n"
     ]
    }
   ],
   "source": [
    "lg.critical(msg)\n",
    "lg.error(msg)\n",
    "lg.warning(msg)\n",
    "lg.info(msg)\n",
    "lg.debug(msg)"
   ]
  },
  {
   "cell_type": "code",
   "execution_count": null,
   "metadata": {
    "collapsed": true
   },
   "outputs": [],
   "source": [
    "# write a python program to "
   ]
  },
  {
   "cell_type": "code",
   "execution_count": 10,
   "metadata": {},
   "outputs": [
    {
     "name": "stderr",
     "output_type": "stream",
     "text": [
      "WARNING:root:THIS IS A WARNING\n",
      "ERROR:root:THIS IS A ERROR\n",
      "CRITICAL:root:THIS IS A CRITICAL\n"
     ]
    },
    {
     "name": "stdout",
     "output_type": "stream",
     "text": [
      "Python Logging Demo\n"
     ]
    }
   ],
   "source": [
    "import logging as lg\n",
    "lg.basicConfig(Filename=\"log.txt\",level=lg.WARNING)\n",
    "print(\"Python Logging Demo\")\n",
    "lg.warning(\"THIS IS A WARNING\")\n",
    "lg.error(\"THIS IS A ERROR\")\n",
    "lg.critical(\"THIS IS A CRITICAL\")"
   ]
  },
  {
   "cell_type": "code",
   "execution_count": 71,
   "metadata": {},
   "outputs": [
    {
     "data": {
      "text/plain": [
       "'/Users/shashankragireddy/shashank/Datascience/1-Python'"
      ]
     },
     "execution_count": 71,
     "metadata": {},
     "output_type": "execute_result"
    }
   ],
   "source": [
    "#The log.txt will be created in pwd"
   ]
  },
  {
   "cell_type": "code",
   "execution_count": 32,
   "metadata": {},
   "outputs": [
    {
     "name": "stdout",
     "output_type": "stream",
     "text": [
      "Python Logging Demo\n"
     ]
    }
   ],
   "source": [
    "lg.basicConfig(Filename=\"log.txt\",level=lg.WARNING)\n",
    "print(\"Python Logging Demo\")\n",
    "lg.warning(\"This is warning\")\n",
    "lg.critical(\"THIS IS A CRITICAL\")"
   ]
  },
  {
   "cell_type": "code",
   "execution_count": 16,
   "metadata": {},
   "outputs": [
    {
     "data": {
      "text/plain": [
       "'/Users/shashankragireddy/workspaces/01-Python NoteBooks'"
      ]
     },
     "execution_count": 16,
     "metadata": {},
     "output_type": "execute_result"
    }
   ],
   "source": [
    "pwd"
   ]
  },
  {
   "cell_type": "code",
   "execution_count": 26,
   "metadata": {},
   "outputs": [
    {
     "name": "stderr",
     "output_type": "stream",
     "text": [
      "ERROR:root:ji\n",
      "NoneType: None\n"
     ]
    }
   ],
   "source": [
    "lg.exception(msg)"
   ]
  },
  {
   "cell_type": "code",
   "execution_count": 27,
   "metadata": {},
   "outputs": [
    {
     "name": "stdout",
     "output_type": "stream",
     "text": [
      "Enter 1st Number10\n",
      "Enter 2nd Number10\n"
     ]
    },
    {
     "name": "stderr",
     "output_type": "stream",
     "text": [
      "CRITICAL:root:This is critical\n"
     ]
    },
    {
     "name": "stdout",
     "output_type": "stream",
     "text": [
      "1.0\n",
      "Finally Block\n"
     ]
    }
   ],
   "source": [
    "import logging as lg\n",
    "lg.basicConfig(filename=\"log.txt\",level=lg.WARNING)\n",
    "lg.info(\"A New Request\")\n",
    "try:  \n",
    "    x = int(input(\"Enter 1st Number\"))\n",
    "    y = int(input(\"Enter 2nd Number\"))\n",
    "    print(x/y)\n",
    "except ZeroDivisionError as msg:\n",
    "    print(\"This is a\",msg)\n",
    "    lg.warning(msg)\n",
    "except ValueError as msg:\n",
    "    print(\"This is a\",msg)\n",
    "    lg.warning(msg)\n",
    "    #lg.Logger()\n",
    "finally:\n",
    "    print(\"Finally Block\")\n",
    "    lg.critical(\"This is critical\")\n",
    "lg.info(\"End\")\n",
    "    "
   ]
  },
  {
   "cell_type": "code",
   "execution_count": 84,
   "metadata": {},
   "outputs": [
    {
     "name": "stdout",
     "output_type": "stream",
     "text": [
      " DataStructures-Linkedlist.ipynb\r\n",
      "1-Python Intro.ipynb\r\n",
      "2-Python Datatypes.ipynb\r\n",
      "3-Python Functions.ipynb\r\n",
      "4-Python Modules.ipynb\r\n",
      "5-Python MultiThreading.ipynb\r\n",
      "6-Exception Handling.ipynb\r\n",
      "7-Python codes.ipynb\r\n",
      "9-Python Abstraction and Interface concepts .ipynb\r\n",
      "9-Python OOPS Composition and Inheritance .ipynb\r\n",
      "9-Python Object Oriented Programming .ipynb\r\n",
      "Linked List .ipynb\r\n",
      "Numpy.ipynb\r\n",
      "PANDAS.ipynb\r\n",
      "Untitled1.ipynb\r\n",
      "Untitled2.ipynb\r\n",
      "Untitled3.ipynb\r\n"
     ]
    }
   ],
   "source": [
    "ls"
   ]
  },
  {
   "cell_type": "code",
   "execution_count": 89,
   "metadata": {
    "collapsed": true
   },
   "outputs": [],
   "source": [
    "# De-Bugging: The process finding and fixing the bug is called debugging"
   ]
  },
  {
   "cell_type": "code",
   "execution_count": null,
   "metadata": {
    "collapsed": true
   },
   "outputs": [],
   "source": [
    "# assert statemets"
   ]
  },
  {
   "cell_type": "code",
   "execution_count": 94,
   "metadata": {
    "collapsed": true
   },
   "outputs": [],
   "source": [
    "# Types of assert statements\n",
    "#1 simple version\n",
    "#2 augumented version"
   ]
  },
  {
   "cell_type": "code",
   "execution_count": null,
   "metadata": {
    "collapsed": true
   },
   "outputs": [],
   "source": []
  },
  {
   "cell_type": "code",
   "execution_count": null,
   "metadata": {
    "collapsed": true
   },
   "outputs": [],
   "source": []
  },
  {
   "cell_type": "code",
   "execution_count": null,
   "metadata": {
    "collapsed": true
   },
   "outputs": [],
   "source": []
  },
  {
   "cell_type": "code",
   "execution_count": null,
   "metadata": {
    "collapsed": true
   },
   "outputs": [],
   "source": []
  },
  {
   "cell_type": "code",
   "execution_count": null,
   "metadata": {
    "collapsed": true
   },
   "outputs": [],
   "source": []
  },
  {
   "cell_type": "code",
   "execution_count": 90,
   "metadata": {
    "collapsed": true
   },
   "outputs": [],
   "source": [
    "# key words \n",
    "# True , False , None -3\n",
    "# if elif else -3\n",
    "# and or not is -4\n",
    "# while for break return continue in yeild -5\n",
    "# try except finally raise -4\n",
    "# import from as pass class def global nonlocal lambda with  -10 \n",
    "\n"
   ]
  },
  {
   "cell_type": "code",
   "execution_count": 33,
   "metadata": {
    "collapsed": true
   },
   "outputs": [],
   "source": [
    "import keyword as kw"
   ]
  },
  {
   "cell_type": "code",
   "execution_count": 34,
   "metadata": {
    "collapsed": true
   },
   "outputs": [
    {
     "data": {
      "text/plain": [
       "['False',\n",
       " 'None',\n",
       " 'True',\n",
       " 'and',\n",
       " 'as',\n",
       " 'assert',\n",
       " 'break',\n",
       " 'class',\n",
       " 'continue',\n",
       " 'def',\n",
       " 'del',\n",
       " 'elif',\n",
       " 'else',\n",
       " 'except',\n",
       " 'finally',\n",
       " 'for',\n",
       " 'from',\n",
       " 'global',\n",
       " 'if',\n",
       " 'import',\n",
       " 'in',\n",
       " 'is',\n",
       " 'lambda',\n",
       " 'nonlocal',\n",
       " 'not',\n",
       " 'or',\n",
       " 'pass',\n",
       " 'raise',\n",
       " 'return',\n",
       " 'try',\n",
       " 'while',\n",
       " 'with',\n",
       " 'yield']"
      ]
     },
     "execution_count": 34,
     "metadata": {},
     "output_type": "execute_result"
    }
   ],
   "source": [
    "kw.kwlist"
   ]
  },
  {
   "cell_type": "code",
   "execution_count": null,
   "metadata": {
    "collapsed": true
   },
   "outputs": [],
   "source": []
  }
 ],
 "metadata": {
  "kernelspec": {
   "display_name": "Python 3",
   "language": "python",
   "name": "python3"
  },
  "language_info": {
   "codemirror_mode": {
    "name": "ipython",
    "version": 3
   },
   "file_extension": ".py",
   "mimetype": "text/x-python",
   "name": "python",
   "nbconvert_exporter": "python",
   "pygments_lexer": "ipython3",
   "version": "3.6.2"
  }
 },
 "nbformat": 4,
 "nbformat_minor": 2
}
