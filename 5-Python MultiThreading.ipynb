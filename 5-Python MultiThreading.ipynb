{
 "cells": [
  {
   "cell_type": "code",
   "execution_count": 1,
   "metadata": {
    "collapsed": true
   },
   "outputs": [],
   "source": [
    "## MultiTasking: Executing Several tasks at a given time is called multitasking"
   ]
  },
  {
   "cell_type": "code",
   "execution_count": null,
   "metadata": {
    "collapsed": true
   },
   "outputs": [],
   "source": [
    "# Types of Multitasking\n",
    "#1 Process based multitasking:\n",
    "#2 Thread based multitasking:"
   ]
  },
  {
   "cell_type": "code",
   "execution_count": 2,
   "metadata": {
    "collapsed": true
   },
   "outputs": [],
   "source": [
    "#1 Process based multitasking:Executing several tasks simeltenously where each task is a seprate independent process\n",
    "#Best suited at Operating sys"
   ]
  },
  {
   "cell_type": "code",
   "execution_count": null,
   "metadata": {
    "collapsed": true
   },
   "outputs": [],
   "source": [
    "#2 Thread based multitasking:Executing several task simetaneoulsy -\n",
    "#where each task is a seprate part  of the same program \n",
    "## We can reduce execution time "
   ]
  },
  {
   "cell_type": "code",
   "execution_count": null,
   "metadata": {
    "collapsed": true
   },
   "outputs": [],
   "source": [
    "#where ever a group of indpendent processes are there \n"
   ]
  },
  {
   "cell_type": "code",
   "execution_count": 3,
   "metadata": {
    "collapsed": true
   },
   "outputs": [],
   "source": [
    "#python provides inbuilt support for multi-threading"
   ]
  },
  {
   "cell_type": "code",
   "execution_count": 4,
   "metadata": {
    "collapsed": true
   },
   "outputs": [],
   "source": [
    "# Thread: Flow of excution\n",
    "# For Every thread there is job"
   ]
  },
  {
   "cell_type": "code",
   "execution_count": null,
   "metadata": {
    "collapsed": true
   },
   "outputs": [],
   "source": [
    "# Single Threaded Program: has : one flow of execution\n",
    "# Multi Threaded Program: has : Multiple flows of execution"
   ]
  },
  {
   "cell_type": "code",
   "execution_count": 1,
   "metadata": {
    "collapsed": true
   },
   "outputs": [],
   "source": [
    "import threading as td"
   ]
  },
  {
   "cell_type": "code",
   "execution_count": 2,
   "metadata": {},
   "outputs": [
    {
     "name": "stdout",
     "output_type": "stream",
     "text": [
      "Current Executing Thread: MainThread\n"
     ]
    }
   ],
   "source": [
    "print(\"Current Executing Thread:\",td.current_thread().getName())"
   ]
  },
  {
   "cell_type": "code",
   "execution_count": null,
   "metadata": {
    "collapsed": true
   },
   "outputs": [],
   "source": [
    "# There are 3 ways to create thread in python\n",
    "#1 create a thread without using any class\n",
    "#2 create a thread by extending a Thread class\n",
    "#3 create a thread without extending Thread class"
   ]
  },
  {
   "cell_type": "markdown",
   "metadata": {
    "collapsed": true
   },
   "source": [
    "###  1st Creating a thread without using any class:"
   ]
  },
  {
   "cell_type": "code",
   "execution_count": 3,
   "metadata": {
    "collapsed": true
   },
   "outputs": [],
   "source": [
    "def display():\n",
    "    print(\"This code executed by Thread nn:\",td.current_thread().getName())"
   ]
  },
  {
   "cell_type": "code",
   "execution_count": 4,
   "metadata": {},
   "outputs": [
    {
     "name": "stdout",
     "output_type": "stream",
     "text": [
      "This code executed by Thread nn: Thread-4\n"
     ]
    }
   ],
   "source": [
    "t = td.Thread(target=display)\n",
    "t.start()"
   ]
  },
  {
   "cell_type": "code",
   "execution_count": 5,
   "metadata": {},
   "outputs": [
    {
     "name": "stdout",
     "output_type": "stream",
     "text": [
      "This code executed by Thread nn: MainThread\n"
     ]
    }
   ],
   "source": [
    "display()"
   ]
  },
  {
   "cell_type": "code",
   "execution_count": 6,
   "metadata": {
    "collapsed": true
   },
   "outputs": [],
   "source": [
    "import time"
   ]
  },
  {
   "cell_type": "code",
   "execution_count": 13,
   "metadata": {},
   "outputs": [
    {
     "name": "stdout",
     "output_type": "stream",
     "text": [
      "This code executed by Thread mn: MainThread\n",
      "This code executed by Thread nn: Thread-8\n",
      "This code executed by Thread: MainThread\n"
     ]
    }
   ],
   "source": [
    "print(\"This code executed by Thread mn:\",threading.current_thread().getName())\n",
    "time.sleep(2)\n",
    "#main thread creates child thread\n",
    "t = threading.Thread(target=display)\n",
    "t.start()\n",
    "time.sleep(2)\n",
    "print(\"This code executed by Thread:\",threading.current_thread().getName())"
   ]
  },
  {
   "cell_type": "code",
   "execution_count": null,
   "metadata": {
    "collapsed": true
   },
   "outputs": [],
   "source": [
    "# Example 2"
   ]
  },
  {
   "cell_type": "code",
   "execution_count": 7,
   "metadata": {
    "collapsed": true
   },
   "outputs": [],
   "source": [
    "def display():\n",
    "    print(\"This code executed by Thread nn:\",td.current_thread().getName())\n",
    "    for i in range(10):\n",
    "        print(i,\"This is disp: \",td.current_thread().getName(),\"Thread\")"
   ]
  },
  {
   "cell_type": "code",
   "execution_count": 8,
   "metadata": {
    "collapsed": true
   },
   "outputs": [
    {
     "name": "stdout",
     "output_type": "stream",
     "text": [
      "This code executed by Thread nn: MainThread\n",
      "0 This is disp:  MainThread Thread\n",
      "1 This is disp:  MainThread Thread\n",
      "2 This is disp:  MainThread Thread\n",
      "3 This is disp:  MainThread Thread\n",
      "4 This is disp:  MainThread Thread\n",
      "5 This is disp:  MainThread Thread\n",
      "6 This is disp:  MainThread Thread\n",
      "7 This is disp:  MainThread Thread\n",
      "8 This is disp:  MainThread Thread\n",
      "9 This is disp:  MainThread Thread\n"
     ]
    }
   ],
   "source": [
    "# if we call display directly this will be excuted by main thread\n",
    "display()"
   ]
  },
  {
   "cell_type": "code",
   "execution_count": 9,
   "metadata": {
    "collapsed": true
   },
   "outputs": [
    {
     "name": "stdout",
     "output_type": "stream",
     "text": [
      "This code executed by Thread nn: Thread-5\n",
      "0 This is disp:  Thread-5 Thread\n",
      "1 This is disp:  Thread-5 Thread\n",
      "2 This is disp:  Thread-5 Thread\n",
      "3 This is disp:  Thread-5 Thread\n",
      "4 This is disp:  Thread-5 Thread\n",
      "5 This is disp:  Thread-5 Thread\n",
      "6 This is disp:  Thread-5 Thread\n",
      "7 This is disp:  Thread-5 Thread\n",
      "8 This is disp:  Thread-5 Thread\n",
      "9 This is disp:  Thread-5 Thread\n"
     ]
    }
   ],
   "source": [
    "# here display is called by child thread\n",
    "t = td.Thread(target=display)\n",
    "t.start()"
   ]
  },
  {
   "cell_type": "code",
   "execution_count": 10,
   "metadata": {
    "collapsed": true
   },
   "outputs": [
    {
     "name": "stdout",
     "output_type": "stream",
     "text": [
      "This code executed by Thread mn:This code executed by Thread nn:  Thread-6MainThread\n",
      "\n",
      "0This code executed by Thread:  This is disp: MainThread \n",
      "Thread-6 Thread\n",
      "1 This is disp:  Thread-6 Thread\n",
      "2 This is disp:  Thread-6 Thread\n",
      "3 This is disp:  Thread-6 Thread\n",
      "4 This is disp:  Thread-6 Thread\n",
      "5 This is disp:  Thread-6 Thread\n",
      "6 This is disp:  Thread-6 Thread\n",
      "7 This is disp:  Thread-6 Thread\n",
      "8 This is disp:  Thread-6 Thread\n",
      "9 This is disp:  Thread-6 Thread\n"
     ]
    }
   ],
   "source": [
    "# MULTIPLE THREADS ARE THERE WE CNNOT DECIDE THE ORDER OF EXCCUTION\n",
    "print(\"This code executed by Thread mn:\",td.current_thread().getName())\n",
    "#time.sleep(1)\n",
    "#main thread creates child thread\n",
    "t = td.Thread(target=display)\n",
    "t.start()\n",
    "#time.sleep(1)\n",
    "print(\"This code executed by Thread:\",td.current_thread().getName())"
   ]
  },
  {
   "cell_type": "code",
   "execution_count": 11,
   "metadata": {
    "collapsed": true
   },
   "outputs": [
    {
     "name": "stdout",
     "output_type": "stream",
     "text": [
      "This code executed by Thread mn: MainThread\n",
      "This code executed by Thread nn: The Thread here is Thread-7 \n",
      "MainThread0\n",
      " The Thread here is This is disp:   MainThreadThread-7\n",
      " The Thread here is Thread \n",
      "MainThread1\n",
      " The Thread here is This is disp:   MainThreadThread-7\n",
      " The Thread here is Thread \n",
      "MainThread2\n",
      " The Thread here is This is disp:   MainThreadThread-7\n",
      " The Thread here is Thread \n",
      "MainThread3\n",
      " The Thread here is This is disp:   MainThreadThread-7\n",
      " The Thread here is Thread \n",
      "MainThread4\n",
      " The Thread here is This is disp:   MainThreadThread-7\n",
      " Thread\n",
      "5 This is disp:  Thread-7 Thread\n",
      "6 This is disp:  Thread-7 Thread\n",
      "7 This is disp:  Thread-7 Thread\n",
      "8 This is disp:  Thread-7 Thread\n",
      "9 This is disp:  Thread-7 Thread\n"
     ]
    }
   ],
   "source": [
    "def display():\n",
    "    print(\"This code executed by Thread nn:\",td.current_thread().getName())\n",
    "    for i in range(10):\n",
    "        print(i,\"This is disp: \",td.current_thread().getName(),\"Thread\")\n",
    "#---------------------------------------------------------------------------------------------\n",
    "\n",
    "\n",
    "# MULTIPLE THREADS ARE THERE WE CNNOT DECIDE THE ORDER OF EXCCUTION\n",
    "print(\"This code executed by Thread mn:\",td.current_thread().getName())\n",
    "#time.sleep(1)\n",
    "#main thread creates child thread\n",
    "t = td.Thread(target=display)\n",
    "t.start()\n",
    "for i in range(10):\n",
    "    print(\"The Thread here is \",td.current_thread().getName())\n",
    "    \n",
    "    \n",
    "    \n",
    "# MULTIPLE THREADS ARE THERE WE CNNOT DECIDE THE ORDER OF EXCCUTION: THEREFORE WE USE MULTITHREADING WHEN THERE IS\n",
    "# NO DEPENDENCY (ORDER SHD NOT BE IMPLEMENTED)"
   ]
  },
  {
   "cell_type": "code",
   "execution_count": null,
   "metadata": {
    "collapsed": true
   },
   "outputs": [],
   "source": [
    "# MULTIPLE THREADS ARE THERE WE CNNOT DECIDE THE ORDER OF EXCCUTION: THEREFORE WE USE MULTITHREADING WHEN THERE IS\n",
    "# NO DEPENDENCY (ORDER SHD NOT BE IMPLEMENTED)"
   ]
  },
  {
   "cell_type": "code",
   "execution_count": null,
   "metadata": {
    "collapsed": true
   },
   "outputs": [],
   "source": []
  },
  {
   "cell_type": "markdown",
   "metadata": {
    "collapsed": true
   },
   "source": [
    "###  2nd Method By Extending Thread class from Threading Module"
   ]
  },
  {
   "cell_type": "code",
   "execution_count": 26,
   "metadata": {
    "collapsed": true
   },
   "outputs": [],
   "source": [
    "## 2nd Method By Extending Thread class from Threading Module\n",
    "from threading import *"
   ]
  },
  {
   "cell_type": "code",
   "execution_count": 38,
   "metadata": {
    "collapsed": true
   },
   "outputs": [],
   "source": [
    "class MyThread(Thread):\n",
    "    \n",
    "    # over riding run method\n",
    "    # this is the job of thread\n",
    "    #val = str.lower(\"Child Thread)\"\n",
    "    def run(self):\n",
    "        for i in range(10):\n",
    "            print(str.lower(\"Child Thread\"))"
   ]
  },
  {
   "cell_type": "code",
   "execution_count": 39,
   "metadata": {
    "collapsed": true
   },
   "outputs": [],
   "source": [
    "a = MyThread()"
   ]
  },
  {
   "cell_type": "code",
   "execution_count": 41,
   "metadata": {
    "collapsed": true
   },
   "outputs": [
    {
     "name": "stdout",
     "output_type": "stream",
     "text": [
      "child threadMAIN THREAD ::\n",
      "\n",
      "MAIN THREAD ::child thread\n",
      "\n",
      "MAIN THREAD ::child thread\n",
      "\n",
      "MAIN THREAD ::child thread\n",
      "\n",
      "MAIN THREAD ::child thread\n",
      "\n",
      "MAIN THREAD ::child thread\n",
      "\n",
      "MAIN THREAD ::child thread\n",
      "\n",
      "MAIN THREAD ::child thread\n",
      "\n",
      "MAIN THREAD ::child thread\n",
      "\n",
      "MAIN THREAD ::child thread\n",
      "\n"
     ]
    }
   ],
   "source": [
    "a = MyThread()\n",
    "a.start()\n",
    "for i in range(10):\n",
    "    print(str.upper(\"main Thread ::\"))"
   ]
  },
  {
   "cell_type": "markdown",
   "metadata": {
    "collapsed": true
   },
   "source": [
    "### 3rd Create a thread without extending Thread class"
   ]
  },
  {
   "cell_type": "code",
   "execution_count": 42,
   "metadata": {
    "collapsed": true
   },
   "outputs": [],
   "source": [
    "#3 create a thread without extending Thread class \n",
    "class A:\n",
    "    \n",
    "    def display(self):\n",
    "        for i in range(10):\n",
    "            print(\"Child Thread\")\n",
    "        "
   ]
  },
  {
   "cell_type": "code",
   "execution_count": 43,
   "metadata": {
    "collapsed": true
   },
   "outputs": [
    {
     "name": "stdout",
     "output_type": "stream",
     "text": [
      "Child ThreadMain Thread\n",
      "\n",
      "Main ThreadChild Thread\n",
      "\n",
      "Main ThreadChild Thread\n",
      "Main Thread\n",
      "Main Thread\n",
      "\n",
      "Main ThreadChild Thread\n",
      "\n",
      "Main ThreadChild Thread\n",
      "\n",
      "Main ThreadChild Thread\n",
      "\n",
      "Main ThreadChild Thread\n",
      "\n",
      "Main ThreadChild Thread\n",
      "\n",
      "Child Thread\n",
      "Child Thread\n"
     ]
    }
   ],
   "source": [
    "obj = A()\n",
    "t = td.Thread(target=obj.display)\n",
    "t.start()\n",
    "for i in range(10):\n",
    "    print(\"Main Thread\")"
   ]
  },
  {
   "cell_type": "code",
   "execution_count": null,
   "metadata": {
    "collapsed": true
   },
   "outputs": [],
   "source": [
    " "
   ]
  },
  {
   "cell_type": "code",
   "execution_count": null,
   "metadata": {
    "collapsed": true
   },
   "outputs": [],
   "source": []
  },
  {
   "cell_type": "code",
   "execution_count": 37,
   "metadata": {
    "collapsed": true
   },
   "outputs": [],
   "source": [
    "import time"
   ]
  },
  {
   "cell_type": "code",
   "execution_count": 39,
   "metadata": {
    "collapsed": true
   },
   "outputs": [],
   "source": [
    "time.sleep(1)"
   ]
  },
  {
   "cell_type": "code",
   "execution_count": 5,
   "metadata": {
    "collapsed": true
   },
   "outputs": [],
   "source": [
    "#performance\n",
    "#import time\n",
    "def double(numbers):\n",
    "    for i in numbers:\n",
    "        print(\"Double\",i*2)"
   ]
  },
  {
   "cell_type": "code",
   "execution_count": 4,
   "metadata": {
    "collapsed": true
   },
   "outputs": [],
   "source": [
    "def squares(numbers):\n",
    "    for i in numbers:\n",
    "        print(\"Double\",i*2)\n"
   ]
  },
  {
   "cell_type": "code",
   "execution_count": 3,
   "metadata": {
    "collapsed": true
   },
   "outputs": [],
   "source": [
    "import numpy as np\n",
    "numbers  = np.random.randint(1,500,500)\n",
    "#numbers = [1,2,3,4,5"
   ]
  },
  {
   "cell_type": "code",
   "execution_count": null,
   "metadata": {
    "collapsed": true
   },
   "outputs": [],
   "source": [
    "import time\n",
    "begintime = time.time()\n",
    "double(numbers)\n",
    "squares(numbers)\n",
    "endtime = time.time()\n",
    "print(\"Time taken is : \",endtime-begintime)"
   ]
  },
  {
   "cell_type": "code",
   "execution_count": 54,
   "metadata": {},
   "outputs": [
    {
     "name": "stdout",
     "output_type": "stream",
     "text": [
      "Doublesquares  12\n",
      "\n",
      "squaresDouble 4\n",
      " 4\n",
      "Doublesquares  69\n",
      "\n",
      "squaresDouble 16 \n",
      "8\n",
      "squaresDouble 10\n",
      " 25Time taken is : \n",
      " 5.024672985076904\n"
     ]
    }
   ],
   "source": [
    "begintime = time.time()\n",
    "t1 = td.Thread(target=double,args=(numbers,))\n",
    "t1.start()\n",
    "t2 = td.Thread(target=squares,args=(numbers,))\n",
    "t2.start()\n",
    "# join used (main thread will wait until the child threads are completed) \n",
    "t1.join()\n",
    "t2.join()\n",
    "endtime = time.time()\n",
    "print(\"Time taken is : \",endtime-begintime)"
   ]
  },
  {
   "cell_type": "code",
   "execution_count": 55,
   "metadata": {},
   "outputs": [
    {
     "data": {
      "text/plain": [
       "1529399930.2751412"
      ]
     },
     "execution_count": 55,
     "metadata": {},
     "output_type": "execute_result"
    }
   ],
   "source": [
    "time.time()"
   ]
  },
  {
   "cell_type": "markdown",
   "metadata": {},
   "source": [
    "# Naming Thread(s)"
   ]
  },
  {
   "cell_type": "code",
   "execution_count": 12,
   "metadata": {
    "collapsed": true
   },
   "outputs": [],
   "source": [
    "import threading as td"
   ]
  },
  {
   "cell_type": "code",
   "execution_count": 13,
   "metadata": {},
   "outputs": [
    {
     "name": "stdout",
     "output_type": "stream",
     "text": [
      "The name is of Thread is : MainThread\n"
     ]
    }
   ],
   "source": [
    "print(\"The name is of Thread is :\", td.current_thread().getName())"
   ]
  },
  {
   "cell_type": "code",
   "execution_count": 14,
   "metadata": {
    "collapsed": true
   },
   "outputs": [],
   "source": [
    "td.current_thread().setName(\"Main Thd\")"
   ]
  },
  {
   "cell_type": "code",
   "execution_count": 15,
   "metadata": {},
   "outputs": [
    {
     "name": "stdout",
     "output_type": "stream",
     "text": [
      "The name is of Thread is : Main Thd\n"
     ]
    }
   ],
   "source": [
    "print(\"The name is of Thread is :\", td.current_thread().getName())"
   ]
  },
  {
   "cell_type": "code",
   "execution_count": 16,
   "metadata": {},
   "outputs": [
    {
     "name": "stdout",
     "output_type": "stream",
     "text": [
      "The name is of Thread is : Main Thd\n"
     ]
    }
   ],
   "source": [
    "print(\"The name is of Thread is :\", td.current_thread().name)"
   ]
  },
  {
   "cell_type": "code",
   "execution_count": 20,
   "metadata": {
    "collapsed": true
   },
   "outputs": [],
   "source": [
    "def disp():\n",
    "    print(\"The name is of Thread is :\", td.current_thread().getName())"
   ]
  },
  {
   "cell_type": "code",
   "execution_count": 22,
   "metadata": {},
   "outputs": [
    {
     "name": "stdout",
     "output_type": "stream",
     "text": [
      "The name is of Thread is : SD\n"
     ]
    }
   ],
   "source": [
    "t = td.Thread(target=disp)\n",
    "t.setName(\"SD\")\n",
    "t.start()"
   ]
  },
  {
   "cell_type": "code",
   "execution_count": 23,
   "metadata": {
    "collapsed": true
   },
   "outputs": [],
   "source": [
    "tm = td.current_thread()"
   ]
  },
  {
   "cell_type": "code",
   "execution_count": 24,
   "metadata": {},
   "outputs": [
    {
     "data": {
      "text/plain": [
       "'Main Thread'"
      ]
     },
     "execution_count": 24,
     "metadata": {},
     "output_type": "execute_result"
    }
   ],
   "source": [
    "tm.getName()\n",
    "tm.setName(\"Main Thread\")\n",
    "tm.getName()"
   ]
  },
  {
   "cell_type": "code",
   "execution_count": 25,
   "metadata": {},
   "outputs": [
    {
     "data": {
      "text/plain": [
       "140736087761792"
      ]
     },
     "execution_count": 25,
     "metadata": {},
     "output_type": "execute_result"
    }
   ],
   "source": [
    "tm.ident"
   ]
  },
  {
   "cell_type": "code",
   "execution_count": 26,
   "metadata": {},
   "outputs": [
    {
     "data": {
      "text/plain": [
       "123145484419072"
      ]
     },
     "execution_count": 26,
     "metadata": {},
     "output_type": "execute_result"
    }
   ],
   "source": [
    "t.ident"
   ]
  },
  {
   "cell_type": "markdown",
   "metadata": {
    "collapsed": true
   },
   "source": [
    "# The Thread id (Main and Child)"
   ]
  },
  {
   "cell_type": "code",
   "execution_count": 28,
   "metadata": {
    "collapsed": true
   },
   "outputs": [],
   "source": [
    "def sample():\n",
    "    #print(\"This is a childNUmber\") \n",
    "    pass"
   ]
  },
  {
   "cell_type": "code",
   "execution_count": 29,
   "metadata": {},
   "outputs": [
    {
     "name": "stdout",
     "output_type": "stream",
     "text": [
      "The Main thread Id: 140736087761792\n",
      "The Child thread Id: 123145484419072\n"
     ]
    }
   ],
   "source": [
    "t= td.Thread(target=sample)\n",
    "t.start()\n",
    "print(\"The Main thread Id:\",td.current_thread().ident)\n",
    "print(\"The Child thread Id:\",t.ident)"
   ]
  },
  {
   "cell_type": "markdown",
   "metadata": {
    "collapsed": true
   },
   "source": [
    "# active_count"
   ]
  },
  {
   "cell_type": "code",
   "execution_count": 7,
   "metadata": {
    "collapsed": true
   },
   "outputs": [],
   "source": [
    "#active_count() : GIVES THE NUMBER OF ACTIVE THREADS PRSENT"
   ]
  },
  {
   "cell_type": "code",
   "execution_count": 2,
   "metadata": {
    "collapsed": true
   },
   "outputs": [],
   "source": [
    "import threading as td\n",
    "import time"
   ]
  },
  {
   "cell_type": "code",
   "execution_count": 30,
   "metadata": {},
   "outputs": [
    {
     "name": "stdout",
     "output_type": "stream",
     "text": [
      "Main Thread\n"
     ]
    }
   ],
   "source": [
    "print(td.currentThread().getName())"
   ]
  },
  {
   "cell_type": "code",
   "execution_count": 31,
   "metadata": {},
   "outputs": [
    {
     "name": "stdout",
     "output_type": "stream",
     "text": [
      "5\n"
     ]
    }
   ],
   "source": [
    "print(td.active_count())"
   ]
  },
  {
   "cell_type": "code",
   "execution_count": 32,
   "metadata": {},
   "outputs": [
    {
     "name": "stdout",
     "output_type": "stream",
     "text": [
      "Namezzz Main Thread\n",
      "Namezzz Thread-2\n",
      "Namezzz Thread-3\n",
      "Namezzz IPythonHistorySavingThread\n",
      "Namezzz Thread-1\n"
     ]
    }
   ],
   "source": [
    "l = td.enumerate()\n",
    "for t in l:\n",
    "    print(\"Namezzz\",t.name)"
   ]
  },
  {
   "cell_type": "code",
   "execution_count": 34,
   "metadata": {
    "collapsed": true
   },
   "outputs": [],
   "source": [
    "def sample():\n",
    "    print(td.current_thread().getName(),\":started\")\n",
    "    time.sleep(1)\n",
    "    print(td.current_thread().getName(),\":Ended\")\n",
    "    "
   ]
  },
  {
   "cell_type": "code",
   "execution_count": null,
   "metadata": {
    "collapsed": true
   },
   "outputs": [],
   "source": []
  },
  {
   "cell_type": "code",
   "execution_count": 35,
   "metadata": {},
   "outputs": [
    {
     "name": "stdout",
     "output_type": "stream",
     "text": [
      "The number of Active Threads: 5\n",
      "Thread 1 Thread 2The number of Active Threads:Thread 3:started   \n",
      ":started8:started\n",
      "\n",
      "\n",
      "Thread 1Thread 2 :EndedThread 3  :Ended\n",
      ":Ended\n",
      "\n",
      "The number of Active Threads: 5\n"
     ]
    }
   ],
   "source": [
    "print(\"The number of Active Threads:\",td.active_count())\n",
    "t1 = td.Thread(target=sample,name=\"Thread 1\")\n",
    "t2 = td.Thread(target=sample,name=\"Thread 2\")\n",
    "t3 = td.Thread(target=sample,name=\"Thread 3\")\n",
    "t1.start()\n",
    "t2.start()\n",
    "t3.start()\n",
    "print(\"The number of Active Threads:\",td.active_count())\n",
    "time.sleep(10)\n",
    "print(\"The number of Active Threads:\",td.active_count())"
   ]
  },
  {
   "cell_type": "markdown",
   "metadata": {
    "collapsed": true
   },
   "source": [
    "# Enumerate:"
   ]
  },
  {
   "cell_type": "code",
   "execution_count": 45,
   "metadata": {
    "collapsed": true
   },
   "outputs": [],
   "source": [
    "# Enumerate: will list out all active threads"
   ]
  },
  {
   "cell_type": "code",
   "execution_count": 36,
   "metadata": {},
   "outputs": [
    {
     "name": "stdout",
     "output_type": "stream",
     "text": [
      "Thread 1Thread 2Thread 3Namezzz    :started:startedMain Thread:started\n",
      "\n",
      "\n",
      "\n",
      "Namezzz Thread-2\n",
      "Namezzz Thread-3\n",
      "Namezzz IPythonHistorySavingThread\n",
      "Namezzz Thread-1\n",
      "Namezzz Thread 1\n",
      "Namezzz Thread 2\n",
      "Namezzz Thread 3\n",
      "Thread 1Thread 2Thread 3   :Ended:Ended:Ended\n",
      "\n",
      "\n"
     ]
    }
   ],
   "source": [
    "\n",
    "t1 = td.Thread(target=sample,name=\"Thread 1\")\n",
    "t2 = td.Thread(target=sample,name=\"Thread 2\")\n",
    "t3 = td.Thread(target=sample,name=\"Thread 3\")\n",
    "t1.start()\n",
    "t2.start()\n",
    "t3.start()\n",
    "l = td.enumerate()\n",
    "for t in l:\n",
    "    print(\"Namezzz\",t.name)"
   ]
  },
  {
   "cell_type": "code",
   "execution_count": 27,
   "metadata": {},
   "outputs": [
    {
     "name": "stdout",
     "output_type": "stream",
     "text": [
      "Namezzz MainThread\n",
      "Namezzz Thread-2\n",
      "Namezzz Thread-3\n",
      "Namezzz IPythonHistorySavingThread\n",
      "Namezzz Thread-1\n"
     ]
    }
   ],
   "source": [
    "l = td.enumerate()\n",
    "for t in l:\n",
    "    print(\"Namezzz\",t.name)"
   ]
  },
  {
   "cell_type": "code",
   "execution_count": 5,
   "metadata": {},
   "outputs": [
    {
     "name": "stdout",
     "output_type": "stream",
     "text": [
      "The number of Active Threads: 5\n"
     ]
    }
   ],
   "source": [
    "print(\"The number of Active Threads:\",td.active_count())"
   ]
  },
  {
   "cell_type": "code",
   "execution_count": 6,
   "metadata": {},
   "outputs": [
    {
     "ename": "NameError",
     "evalue": "name 'l' is not defined",
     "output_type": "error",
     "traceback": [
      "\u001b[0;31m---------------------------------------------------------------------------\u001b[0m",
      "\u001b[0;31mNameError\u001b[0m                                 Traceback (most recent call last)",
      "\u001b[0;32m<ipython-input-6-1d6f795ff845>\u001b[0m in \u001b[0;36m<module>\u001b[0;34m()\u001b[0m\n\u001b[0;32m----> 1\u001b[0;31m \u001b[0;32mfor\u001b[0m \u001b[0mt\u001b[0m \u001b[0;32min\u001b[0m \u001b[0ml\u001b[0m\u001b[0;34m:\u001b[0m\u001b[0;34m\u001b[0m\u001b[0m\n\u001b[0m\u001b[1;32m      2\u001b[0m     \u001b[0mprint\u001b[0m\u001b[0;34m(\u001b[0m\u001b[0;34m\"Namezzz\"\u001b[0m\u001b[0;34m,\u001b[0m\u001b[0mt\u001b[0m\u001b[0;34m.\u001b[0m\u001b[0mname\u001b[0m\u001b[0;34m)\u001b[0m\u001b[0;34m\u001b[0m\u001b[0m\n\u001b[1;32m      3\u001b[0m \u001b[0;34m\u001b[0m\u001b[0m\n",
      "\u001b[0;31mNameError\u001b[0m: name 'l' is not defined"
     ]
    }
   ],
   "source": [
    "for t in l:\n",
    "    print(\"Namezzz\",t.name)\n",
    "    "
   ]
  },
  {
   "cell_type": "code",
   "execution_count": null,
   "metadata": {
    "collapsed": true
   },
   "outputs": [],
   "source": [
    "#To find weather the Thread is active or not \n",
    "# use  t.isActive()---> method b'cause its defined in the class"
   ]
  },
  {
   "cell_type": "code",
   "execution_count": 6,
   "metadata": {
    "collapsed": true
   },
   "outputs": [],
   "source": [
    "## enumerate() --> function defined outside class\n",
    "## active_count() --> function defined outside class\n",
    "## isAlive()"
   ]
  },
  {
   "cell_type": "markdown",
   "metadata": {},
   "source": [
    "# isAlive:"
   ]
  },
  {
   "cell_type": "code",
   "execution_count": 8,
   "metadata": {
    "collapsed": true
   },
   "outputs": [],
   "source": [
    "# isAlive: INDICATES THE CURRENT STATE OF THE THREAD (TRUE IS ALIVE AND FALSE IS DEAD)"
   ]
  },
  {
   "cell_type": "markdown",
   "metadata": {
    "collapsed": true
   },
   "source": [
    "# join:"
   ]
  },
  {
   "cell_type": "code",
   "execution_count": 9,
   "metadata": {
    "collapsed": true
   },
   "outputs": [],
   "source": [
    "def display():\n",
    "    for i in range(5):\n",
    "        print('Sita Thread')\n",
    "        time.sleep(3)"
   ]
  },
  {
   "cell_type": "code",
   "execution_count": 11,
   "metadata": {
    "collapsed": true
   },
   "outputs": [
    {
     "name": "stdout",
     "output_type": "stream",
     "text": [
      "Sita Thread\n",
      "Main thread\n",
      "Main thread\n",
      "Main thread\n",
      "Main thread\n",
      "Main thread\n",
      "Main thread\n",
      "Main thread\n",
      "Main thread\n",
      "Main thread\n",
      "Main thread\n",
      "Sita Thread\n",
      "Sita Thread\n",
      "Sita Thread\n",
      "Sita Thread\n"
     ]
    }
   ],
   "source": [
    "#from threading import *\n",
    "import threading as td\n",
    "t = td.Thread(target=display,name='Sita Thread')\n",
    "t.start()\n",
    "\n",
    "t.join(1)\n",
    "\n",
    "for i in range(10):\n",
    "    print('Main thread')"
   ]
  },
  {
   "cell_type": "code",
   "execution_count": 12,
   "metadata": {
    "collapsed": true
   },
   "outputs": [
    {
     "name": "stdout",
     "output_type": "stream",
     "text": [
      "Sita Thread\n",
      "Sita Thread\n",
      "Sita Thread\n",
      "Sita Thread\n",
      "Sita Thread\n",
      "Main thread\n",
      "Main thread\n",
      "Main thread\n",
      "Main thread\n",
      "Main thread\n",
      "Main thread\n",
      "Main thread\n",
      "Main thread\n",
      "Main thread\n",
      "Main thread\n"
     ]
    }
   ],
   "source": [
    "#from threading import *\n",
    "import threading as td\n",
    "t = td.Thread(target=display,name='Sita Thread')\n",
    "t.start()\n",
    "\n",
    "t.join()\n",
    "\n",
    "for i in range(10):\n",
    "    print('Main thread')"
   ]
  },
  {
   "cell_type": "markdown",
   "metadata": {},
   "source": [
    "## Deamon Thread"
   ]
  },
  {
   "cell_type": "code",
   "execution_count": 45,
   "metadata": {
    "collapsed": true
   },
   "outputs": [],
   "source": [
    "# Deamon Thread: Threads executing in the backgroud (like Garbage Collector),\n",
    "# main purpose of deamon threads:\n",
    "# to provide support for non demon threads"
   ]
  },
  {
   "cell_type": "code",
   "execution_count": 46,
   "metadata": {
    "collapsed": true
   },
   "outputs": [],
   "source": [
    "# t.isDaemon\n",
    "# t.daemon"
   ]
  },
  {
   "cell_type": "code",
   "execution_count": 15,
   "metadata": {},
   "outputs": [
    {
     "name": "stdout",
     "output_type": "stream",
     "text": [
      "MainThread\n"
     ]
    }
   ],
   "source": [
    "print(td.current_thread().getName())"
   ]
  },
  {
   "cell_type": "code",
   "execution_count": 17,
   "metadata": {},
   "outputs": [
    {
     "name": "stdout",
     "output_type": "stream",
     "text": [
      "140736087761792\n"
     ]
    }
   ],
   "source": [
    "print(td.current_thread().ident)"
   ]
  },
  {
   "cell_type": "code",
   "execution_count": 14,
   "metadata": {},
   "outputs": [
    {
     "name": "stdout",
     "output_type": "stream",
     "text": [
      "False\n"
     ]
    }
   ],
   "source": [
    "print(td.current_thread().isDaemon())"
   ]
  },
  {
   "cell_type": "code",
   "execution_count": 18,
   "metadata": {},
   "outputs": [
    {
     "name": "stdout",
     "output_type": "stream",
     "text": [
      "False\n"
     ]
    }
   ],
   "source": [
    "print(td.current_thread().daemon)"
   ]
  },
  {
   "cell_type": "code",
   "execution_count": 51,
   "metadata": {
    "collapsed": true
   },
   "outputs": [],
   "source": [
    "# to change daemon status of Threads\n",
    "# td1.setDaemon(True)\n",
    "# td1.setDaemon(False)\n",
    "#****** once the thread starts,we cannon the nature of thread (hence main thread status cannon be changed) ****/"
   ]
  },
  {
   "cell_type": "code",
   "execution_count": null,
   "metadata": {
    "collapsed": true
   },
   "outputs": [],
   "source": [
    "# by Default \n",
    "# main thread daemon status is not true or non daemon\n",
    "# for all other threads the nature will be inherited from the parent thread"
   ]
  },
  {
   "cell_type": "code",
   "execution_count": 37,
   "metadata": {
    "collapsed": true
   },
   "outputs": [],
   "source": [
    "def display():\n",
    "    for i in range(5):\n",
    "        print('Sita Thread')"
   ]
  },
  {
   "cell_type": "code",
   "execution_count": 38,
   "metadata": {},
   "outputs": [
    {
     "name": "stdout",
     "output_type": "stream",
     "text": [
      "False\n"
     ]
    }
   ],
   "source": [
    "# child thread daemon status will be inherited from the parent thread\n",
    "t1 = td.Thread(target=display)\n",
    "print(t1.isDaemon())"
   ]
  },
  {
   "cell_type": "code",
   "execution_count": 39,
   "metadata": {},
   "outputs": [
    {
     "name": "stdout",
     "output_type": "stream",
     "text": [
      "False\n",
      "True\n",
      "Sita Thread\n",
      "Sita Thread\n",
      "Sita Thread\n",
      "Sita Thread\n",
      "Sita Thread\n"
     ]
    }
   ],
   "source": [
    "# we change the status of the daemon thread\n",
    "t1 = td.Thread(target=display)\n",
    "print(t1.isDaemon())\n",
    "t1.setDaemon(True)\n",
    "print(t1.isDaemon())\n",
    "t1.start()"
   ]
  },
  {
   "cell_type": "code",
   "execution_count": 54,
   "metadata": {
    "collapsed": true
   },
   "outputs": [],
   "source": [
    "#once the last non-daemon thread is terminnated the daemon threads will be terminated too"
   ]
  },
  {
   "cell_type": "code",
   "execution_count": 34,
   "metadata": {
    "collapsed": true
   },
   "outputs": [],
   "source": [
    "def display():\n",
    "    for i in range(10):\n",
    "        print(\"Lazy thread\")\n",
    "        time.sleep(3)"
   ]
  },
  {
   "cell_type": "code",
   "execution_count": 39,
   "metadata": {},
   "outputs": [
    {
     "name": "stdout",
     "output_type": "stream",
     "text": [
      "FalseLazy thread\n",
      "\n",
      "True\n",
      "End of Main Thread\n",
      "Lazy thread\n",
      "Lazy thread\n",
      "Lazy thread\n",
      "Lazy thread\n",
      "Lazy thread\n",
      "Lazy thread\n",
      "Lazy thread\n",
      "Lazy thread\n",
      "Lazy thread\n"
     ]
    }
   ],
   "source": [
    "t1 = td.Thread(target=display)\n",
    "print(t1.isDaemon())\n",
    "t1.setDaemon(True)\n",
    "t1.start()\n",
    "print(t1.isDaemon())\n",
    "time.sleep(1)\n",
    "print(\"End of Main Thread\")"
   ]
  },
  {
   "cell_type": "code",
   "execution_count": 59,
   "metadata": {
    "collapsed": true
   },
   "outputs": [
    {
     "name": "stdout",
     "output_type": "stream",
     "text": [
      "Lazy threadEnd of Main Thread\n",
      "\n",
      "Lazy thread\n",
      "Lazy thread\n",
      "Lazy thread\n",
      "Lazy thread\n",
      "Lazy thread\n",
      "Lazy thread\n",
      "Lazy thread\n",
      "Lazy thread\n",
      "Lazy thread\n"
     ]
    }
   ],
   "source": [
    "t = Thread(target=display)\n",
    "t.setDaemon(True)\n",
    "t.start()\n",
    "#time.sleep(10)\n",
    "print(\"End of Main Thread\")"
   ]
  },
  {
   "cell_type": "markdown",
   "metadata": {
    "collapsed": true
   },
   "source": [
    "## Synchronization:"
   ]
  },
  {
   "cell_type": "code",
   "execution_count": null,
   "metadata": {
    "collapsed": true
   },
   "outputs": [],
   "source": [
    "# synchronization:if only one thread is allowed to execute we can go for synchronization"
   ]
  },
  {
   "cell_type": "code",
   "execution_count": null,
   "metadata": {
    "collapsed": true
   },
   "outputs": [],
   "source": [
    "# synchronization implemented using \n",
    "#1 Lock\n",
    "#2 Rlock\n",
    "#3 Semaphore"
   ]
  },
  {
   "cell_type": "code",
   "execution_count": null,
   "metadata": {
    "collapsed": true
   },
   "outputs": [],
   "source": [
    "# synchronization implemented using \n",
    "#1 lock concept: Most fundamental concept in threading \n"
   ]
  },
  {
   "cell_type": "code",
   "execution_count": 62,
   "metadata": {
    "collapsed": true
   },
   "outputs": [],
   "source": [
    "# Lock is a class name \n",
    "l = Lock()"
   ]
  },
  {
   "cell_type": "code",
   "execution_count": null,
   "metadata": {
    "collapsed": true
   },
   "outputs": [],
   "source": [
    "# if a thread requires the lock it will call as below\n",
    "### (which ever thread excutes the method lck.acquire() will accquire the lock)\n",
    "l.acquire()\n",
    "\n",
    "# code here .......\n",
    "# code here .......\n",
    "# code here .......\n",
    "\n",
    "# Thread is performing synchonized operation here \n",
    "#(called critical section, this shd be executed by one thread at a time)\n",
    "\n",
    "# code here .......\n",
    "# code here .......\n",
    "# code here .......\n",
    "\n",
    "# after thread finishes the jod  to release we use \n",
    "l.release()\n"
   ]
  },
  {
   "cell_type": "code",
   "execution_count": 41,
   "metadata": {},
   "outputs": [],
   "source": [
    "import time"
   ]
  },
  {
   "cell_type": "code",
   "execution_count": 42,
   "metadata": {
    "collapsed": true
   },
   "outputs": [],
   "source": [
    "def display(name):\n",
    "    \n",
    "    for i in range(5):\n",
    "        #print(\"Good Morning: \")\n",
    "        #time.sleep()\n",
    "        print(name)"
   ]
  },
  {
   "cell_type": "code",
   "execution_count": 59,
   "metadata": {},
   "outputs": [
    {
     "name": "stdout",
     "output_type": "stream",
     "text": [
      "Dhoni\n",
      "kholi\n",
      "Dhonikholi\n",
      "\n",
      "kholi\n",
      "Dhoni\n",
      "kholiDhoni\n",
      "\n",
      "Dhonikholi\n",
      "\n"
     ]
    }
   ],
   "source": [
    "t1 = Thread(target=display,args=('Dhoni',))\n",
    "t2 = Thread(target=display,args=('kholi',))\n",
    "t1.start()\n",
    "t2.start()"
   ]
  },
  {
   "cell_type": "code",
   "execution_count": 60,
   "metadata": {
    "collapsed": true
   },
   "outputs": [],
   "source": [
    "l = Lock()\n",
    "def display(name):\n",
    "    l.acquire()\n",
    "    for i in range(5):\n",
    "        #print(\"Good Morning: \")\n",
    "        time.sleep(1)\n",
    "        print(name)\n",
    "    l.release()"
   ]
  },
  {
   "cell_type": "code",
   "execution_count": 56,
   "metadata": {},
   "outputs": [
    {
     "name": "stdout",
     "output_type": "stream",
     "text": [
      "Dhoni\n",
      "Dhoni\n",
      "Dhoni\n",
      "Dhoni\n",
      "Dhoni\n",
      "kholi\n",
      "kholi\n",
      "kholi\n",
      "kholi\n",
      "kholi\n",
      "end of program\n"
     ]
    }
   ],
   "source": [
    "t1 = Thread(target=display,args=('Dhoni',))\n",
    "t2 = Thread(target=display,args=('kholi',))\n",
    "t1.start()\n",
    "t2.start()\n",
    "t1.join()\n",
    "t2.join()\n",
    "print(\"end of program\")"
   ]
  },
  {
   "cell_type": "code",
   "execution_count": 72,
   "metadata": {
    "collapsed": true
   },
   "outputs": [],
   "source": [
    "# synchronization implemented using \n",
    "#2 Rlock concept: (Re-entrant Lock)\n",
    "# In the case lock concept the standard lock obj does not care which thread is holding the  thread\n",
    "# Recursive Function same thread acquring lock again hence we look for Rlock cocept"
   ]
  },
  {
   "cell_type": "code",
   "execution_count": null,
   "metadata": {
    "collapsed": true
   },
   "outputs": [],
   "source": [
    "# Rlock()\n",
    "# l.acquire() ---> hold1\n",
    "# l.acquire() ---> hold2\n",
    "# l.acquire() ---> hold3\n",
    "\n",
    "# l.release() --> hold 3-1\n",
    "# l.release() --> hold 2-1\n",
    "# l.release() --> hold 1-1"
   ]
  },
  {
   "cell_type": "code",
   "execution_count": 132,
   "metadata": {
    "collapsed": true
   },
   "outputs": [],
   "source": [
    "\n",
    "def factorial(n):\n",
    "    l.acquire()\n",
    "    if n == 0:\n",
    "        result = 1\n",
    "    else:\n",
    "        result = n * factorial(n-1)\n",
    "        print(n)\n",
    "    l.release()\n",
    "    #print(\"yy\")\n",
    "    return result"
   ]
  },
  {
   "cell_type": "code",
   "execution_count": 133,
   "metadata": {
    "collapsed": true
   },
   "outputs": [],
   "source": [
    "l = RLock()"
   ]
  },
  {
   "cell_type": "code",
   "execution_count": 134,
   "metadata": {
    "collapsed": true
   },
   "outputs": [
    {
     "name": "stdout",
     "output_type": "stream",
     "text": [
      "1\n",
      "2\n",
      "3\n",
      "4\n",
      "5\n",
      "6\n"
     ]
    },
    {
     "data": {
      "text/plain": [
       "720"
      ]
     },
     "execution_count": 134,
     "metadata": {},
     "output_type": "execute_result"
    }
   ],
   "source": [
    "factorial(6)"
   ]
  },
  {
   "cell_type": "code",
   "execution_count": 135,
   "metadata": {
    "collapsed": true
   },
   "outputs": [
    {
     "name": "stdout",
     "output_type": "stream",
     "text": [
      "1\n",
      "2\n",
      "3\n",
      "4\n",
      "5\n"
     ]
    },
    {
     "data": {
      "text/plain": [
       "120"
      ]
     },
     "execution_count": 135,
     "metadata": {},
     "output_type": "execute_result"
    }
   ],
   "source": [
    "factorial(5)"
   ]
  },
  {
   "cell_type": "code",
   "execution_count": 171,
   "metadata": {
    "collapsed": true
   },
   "outputs": [],
   "source": [
    "def samp():\n",
    "    l = Lock()\n",
    "    t1 = Thread(target=factorial,args=(5,))\n",
    "    t2 = Thread(target=factorial,args=(6,))\n",
    "    t1.start()\n",
    "    t2.start()\n"
   ]
  },
  {
   "cell_type": "code",
   "execution_count": 166,
   "metadata": {
    "collapsed": true
   },
   "outputs": [],
   "source": [
    "samp()"
   ]
  },
  {
   "cell_type": "code",
   "execution_count": 78,
   "metadata": {
    "collapsed": true
   },
   "outputs": [],
   "source": [
    "# Semaphore : if u want fixed number of threads to execute then semaphore\n",
    "# incase a lock and Rlock only one thread can access code at a time, but semaphore u can have fixed number of threads"
   ]
  },
  {
   "cell_type": "code",
   "execution_count": null,
   "metadata": {
    "collapsed": true
   },
   "outputs": [],
   "source": []
  },
  {
   "cell_type": "code",
   "execution_count": null,
   "metadata": {
    "collapsed": true
   },
   "outputs": [],
   "source": []
  },
  {
   "cell_type": "code",
   "execution_count": null,
   "metadata": {
    "collapsed": true
   },
   "outputs": [],
   "source": []
  },
  {
   "cell_type": "markdown",
   "metadata": {
    "collapsed": true
   },
   "source": [
    "# Interthread communication to be done....???"
   ]
  },
  {
   "cell_type": "code",
   "execution_count": null,
   "metadata": {
    "collapsed": true
   },
   "outputs": [],
   "source": []
  },
  {
   "cell_type": "markdown",
   "metadata": {},
   "source": [
    "# Shallow Copy and Deep Copy:"
   ]
  },
  {
   "cell_type": "code",
   "execution_count": 173,
   "metadata": {
    "collapsed": true
   },
   "outputs": [],
   "source": [
    "l1 = [10,20,30,40,50]"
   ]
  },
  {
   "cell_type": "code",
   "execution_count": 175,
   "metadata": {
    "collapsed": true
   },
   "outputs": [],
   "source": [
    "l2 = l1"
   ]
  },
  {
   "cell_type": "code",
   "execution_count": 176,
   "metadata": {},
   "outputs": [
    {
     "name": "stdout",
     "output_type": "stream",
     "text": [
      "[10, 20, 30, 40, 50]\n",
      "[10, 20, 30, 40, 50]\n"
     ]
    }
   ],
   "source": [
    "print(l1)\n",
    "print(l2)"
   ]
  },
  {
   "cell_type": "code",
   "execution_count": 177,
   "metadata": {},
   "outputs": [
    {
     "name": "stdout",
     "output_type": "stream",
     "text": [
      "4537922824\n",
      "4537922824\n"
     ]
    }
   ],
   "source": [
    "print(id(l1))\n",
    "print(id(l2))"
   ]
  },
  {
   "cell_type": "code",
   "execution_count": 178,
   "metadata": {},
   "outputs": [
    {
     "data": {
      "text/plain": [
       "True"
      ]
     },
     "execution_count": 178,
     "metadata": {},
     "output_type": "execute_result"
    }
   ],
   "source": [
    "l1 is l2"
   ]
  },
  {
   "cell_type": "code",
   "execution_count": 179,
   "metadata": {
    "collapsed": true
   },
   "outputs": [],
   "source": [
    "l2[2]=70"
   ]
  },
  {
   "cell_type": "code",
   "execution_count": 180,
   "metadata": {},
   "outputs": [
    {
     "name": "stdout",
     "output_type": "stream",
     "text": [
      "[10, 20, 70, 40, 50]\n",
      "[10, 20, 70, 40, 50]\n"
     ]
    }
   ],
   "source": [
    "print(l1)\n",
    "print(l2)"
   ]
  },
  {
   "cell_type": "code",
   "execution_count": 181,
   "metadata": {},
   "outputs": [
    {
     "name": "stdout",
     "output_type": "stream",
     "text": [
      "4537922824\n",
      "4537922824\n"
     ]
    }
   ],
   "source": [
    "print(id(l1))\n",
    "print(id(l2))"
   ]
  },
  {
   "cell_type": "code",
   "execution_count": 182,
   "metadata": {},
   "outputs": [
    {
     "data": {
      "text/plain": [
       "True"
      ]
     },
     "execution_count": 182,
     "metadata": {},
     "output_type": "execute_result"
    }
   ],
   "source": [
    "l1 is l2"
   ]
  },
  {
   "cell_type": "code",
   "execution_count": 183,
   "metadata": {
    "collapsed": true
   },
   "outputs": [],
   "source": [
    "# cloning\n",
    "l2 = l1.copy()"
   ]
  },
  {
   "cell_type": "code",
   "execution_count": 184,
   "metadata": {},
   "outputs": [
    {
     "name": "stdout",
     "output_type": "stream",
     "text": [
      "4537922824\n",
      "4537602760\n"
     ]
    }
   ],
   "source": [
    "print(id(l1))\n",
    "print(id(l2))"
   ]
  },
  {
   "cell_type": "code",
   "execution_count": 185,
   "metadata": {},
   "outputs": [
    {
     "data": {
      "text/plain": [
       "False"
      ]
     },
     "execution_count": 185,
     "metadata": {},
     "output_type": "execute_result"
    }
   ],
   "source": [
    "l1 is l2"
   ]
  },
  {
   "cell_type": "code",
   "execution_count": null,
   "metadata": {
    "collapsed": true
   },
   "outputs": [],
   "source": [
    "#--------------------------#"
   ]
  },
  {
   "cell_type": "code",
   "execution_count": 195,
   "metadata": {
    "collapsed": true
   },
   "outputs": [],
   "source": [
    "l1 = [10,20,30,50]"
   ]
  },
  {
   "cell_type": "code",
   "execution_count": 187,
   "metadata": {
    "collapsed": true
   },
   "outputs": [],
   "source": [
    "import copy as cp"
   ]
  },
  {
   "cell_type": "code",
   "execution_count": 196,
   "metadata": {},
   "outputs": [
    {
     "name": "stdout",
     "output_type": "stream",
     "text": [
      "[10, 20, 30, 50]\n"
     ]
    }
   ],
   "source": [
    "print(l1)"
   ]
  },
  {
   "cell_type": "code",
   "execution_count": 197,
   "metadata": {
    "collapsed": true
   },
   "outputs": [],
   "source": [
    "l2 = cp.copy(l1)"
   ]
  },
  {
   "cell_type": "code",
   "execution_count": 198,
   "metadata": {},
   "outputs": [
    {
     "name": "stdout",
     "output_type": "stream",
     "text": [
      "[10, 20, 30, 50]\n",
      "[10, 20, 30, 50]\n"
     ]
    }
   ],
   "source": [
    "print(l1)\n",
    "print(l2)"
   ]
  },
  {
   "cell_type": "code",
   "execution_count": 199,
   "metadata": {},
   "outputs": [
    {
     "name": "stdout",
     "output_type": "stream",
     "text": [
      "4526185672\n",
      "4536675272\n"
     ]
    }
   ],
   "source": [
    "print(id(l1))\n",
    "print(id(l2))"
   ]
  },
  {
   "cell_type": "code",
   "execution_count": 200,
   "metadata": {},
   "outputs": [
    {
     "data": {
      "text/plain": [
       "False"
      ]
     },
     "execution_count": 200,
     "metadata": {},
     "output_type": "execute_result"
    }
   ],
   "source": [
    "l1 is l2"
   ]
  },
  {
   "cell_type": "code",
   "execution_count": 201,
   "metadata": {
    "collapsed": true
   },
   "outputs": [],
   "source": [
    "l1[3] = 888"
   ]
  },
  {
   "cell_type": "code",
   "execution_count": 202,
   "metadata": {},
   "outputs": [
    {
     "name": "stdout",
     "output_type": "stream",
     "text": [
      "[10, 20, 30, 888]\n",
      "[10, 20, 30, 50]\n"
     ]
    }
   ],
   "source": [
    "print(l1)\n",
    "print(l2)"
   ]
  },
  {
   "cell_type": "code",
   "execution_count": 194,
   "metadata": {},
   "outputs": [
    {
     "name": "stdout",
     "output_type": "stream",
     "text": [
      "4539632520\n",
      "4540345992\n"
     ]
    }
   ],
   "source": [
    "print(id(l1))\n",
    "print(id(l2))"
   ]
  },
  {
   "cell_type": "code",
   "execution_count": null,
   "metadata": {
    "collapsed": true
   },
   "outputs": [],
   "source": [
    "#--------------------------#"
   ]
  },
  {
   "cell_type": "code",
   "execution_count": null,
   "metadata": {
    "collapsed": true
   },
   "outputs": [],
   "source": [
    "# shallow copy:\n",
    "# if the original object contains any refrences to mutable objects,just duplicate ref variables will be created \n",
    "# pointing to old contained objects, but not duplicate objects creation "
   ]
  },
  {
   "cell_type": "code",
   "execution_count": 207,
   "metadata": {
    "collapsed": true
   },
   "outputs": [],
   "source": [
    "l1 = [10,20,[30,40],50]"
   ]
  },
  {
   "cell_type": "code",
   "execution_count": 208,
   "metadata": {},
   "outputs": [
    {
     "name": "stdout",
     "output_type": "stream",
     "text": [
      "[10, 20, [30, 40], 50]\n"
     ]
    }
   ],
   "source": [
    "print(l1)"
   ]
  },
  {
   "cell_type": "code",
   "execution_count": 209,
   "metadata": {
    "collapsed": true
   },
   "outputs": [],
   "source": [
    "l2 = cp.copy(l1)"
   ]
  },
  {
   "cell_type": "code",
   "execution_count": 210,
   "metadata": {},
   "outputs": [
    {
     "data": {
      "text/plain": [
       "False"
      ]
     },
     "execution_count": 210,
     "metadata": {},
     "output_type": "execute_result"
    }
   ],
   "source": [
    "l1 is l2"
   ]
  },
  {
   "cell_type": "code",
   "execution_count": 211,
   "metadata": {},
   "outputs": [
    {
     "name": "stdout",
     "output_type": "stream",
     "text": [
      "[10, 20, [30, 40], 50]\n",
      "[10, 20, [30, 40], 50]\n"
     ]
    }
   ],
   "source": [
    "print(l1)\n",
    "print(l2)"
   ]
  },
  {
   "cell_type": "code",
   "execution_count": 212,
   "metadata": {
    "collapsed": true
   },
   "outputs": [],
   "source": [
    "l1[2][0] = 888"
   ]
  },
  {
   "cell_type": "code",
   "execution_count": 213,
   "metadata": {},
   "outputs": [
    {
     "name": "stdout",
     "output_type": "stream",
     "text": [
      "[10, 20, [888, 40], 50]\n",
      "[10, 20, [888, 40], 50]\n"
     ]
    }
   ],
   "source": [
    "print(l1)\n",
    "print(l2)"
   ]
  },
  {
   "cell_type": "code",
   "execution_count": 214,
   "metadata": {
    "collapsed": true
   },
   "outputs": [],
   "source": [
    "# shallow copy and deep copy"
   ]
  },
  {
   "cell_type": "code",
   "execution_count": 215,
   "metadata": {
    "collapsed": true
   },
   "outputs": [],
   "source": [
    "# The process of creating a exact duplicate object is called cloning"
   ]
  },
  {
   "cell_type": "code",
   "execution_count": null,
   "metadata": {
    "collapsed": true
   },
   "outputs": [],
   "source": []
  },
  {
   "cell_type": "code",
   "execution_count": 216,
   "metadata": {
    "collapsed": true
   },
   "outputs": [],
   "source": [
    "# deep copy"
   ]
  },
  {
   "cell_type": "code",
   "execution_count": 217,
   "metadata": {
    "collapsed": true
   },
   "outputs": [],
   "source": [
    "l1 = [10,20,[30,40],50]"
   ]
  },
  {
   "cell_type": "code",
   "execution_count": 218,
   "metadata": {
    "collapsed": true
   },
   "outputs": [],
   "source": [
    "l2 = cp.deepcopy(l1)"
   ]
  },
  {
   "cell_type": "code",
   "execution_count": 220,
   "metadata": {},
   "outputs": [
    {
     "name": "stdout",
     "output_type": "stream",
     "text": [
      "[10, 20, [30, 40], 50]\n",
      "[10, 20, [30, 40], 50]\n"
     ]
    }
   ],
   "source": [
    "print(l1)\n",
    "print(l2)"
   ]
  },
  {
   "cell_type": "code",
   "execution_count": 221,
   "metadata": {
    "collapsed": true
   },
   "outputs": [],
   "source": [
    "l1[1] = 100"
   ]
  },
  {
   "cell_type": "code",
   "execution_count": 222,
   "metadata": {},
   "outputs": [
    {
     "name": "stdout",
     "output_type": "stream",
     "text": [
      "[10, 100, [30, 40], 50]\n",
      "[10, 20, [30, 40], 50]\n"
     ]
    }
   ],
   "source": [
    "print(l1)\n",
    "print(l2)"
   ]
  },
  {
   "cell_type": "code",
   "execution_count": 223,
   "metadata": {
    "collapsed": true
   },
   "outputs": [],
   "source": [
    "l1[2][0] = 70"
   ]
  },
  {
   "cell_type": "code",
   "execution_count": 224,
   "metadata": {},
   "outputs": [
    {
     "name": "stdout",
     "output_type": "stream",
     "text": [
      "[10, 100, [70, 40], 50]\n",
      "[10, 20, [30, 40], 50]\n"
     ]
    }
   ],
   "source": [
    "print(l1)\n",
    "print(l2)"
   ]
  },
  {
   "cell_type": "code",
   "execution_count": null,
   "metadata": {
    "collapsed": true
   },
   "outputs": [],
   "source": [
    "# if the original objects does not contain any nested objects then we can go for shallow copy, else we go for deep copy"
   ]
  }
 ],
 "metadata": {
  "kernelspec": {
   "display_name": "Python 3",
   "language": "python",
   "name": "python3"
  },
  "language_info": {
   "codemirror_mode": {
    "name": "ipython",
    "version": 3
   },
   "file_extension": ".py",
   "mimetype": "text/x-python",
   "name": "python",
   "nbconvert_exporter": "python",
   "pygments_lexer": "ipython3",
   "version": "3.6.2"
  }
 },
 "nbformat": 4,
 "nbformat_minor": 2
}
