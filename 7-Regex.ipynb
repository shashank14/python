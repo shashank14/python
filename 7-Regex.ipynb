{
 "cells": [
  {
   "cell_type": "markdown",
   "metadata": {
    "collapsed": true
   },
   "source": [
    "# Regular Expressions:"
   ]
  },
  {
   "cell_type": "code",
   "execution_count": 2,
   "metadata": {
    "collapsed": true
   },
   "outputs": [],
   "source": [
    "#Regular Expressions: is a declarative mechanism to represent a group chars to a format or a pattern"
   ]
  },
  {
   "cell_type": "code",
   "execution_count": 5,
   "metadata": {
    "collapsed": true
   },
   "outputs": [],
   "source": [
    "# Regular Expressions Used In:\n",
    "\n",
    "# Regular Expression used for pattern matching (validations)\n",
    "# ie: email,mobile-nos,\n",
    "# Translators and compilers\n",
    "# To digital circuts \n",
    "# In comunication protocols udp/tcp-ip etc"
   ]
  },
  {
   "cell_type": "code",
   "execution_count": 6,
   "metadata": {
    "collapsed": true
   },
   "outputs": [],
   "source": [
    "# module name is re"
   ]
  },
  {
   "cell_type": "code",
   "execution_count": 1,
   "metadata": {
    "collapsed": true
   },
   "outputs": [],
   "source": [
    "import re as rgx"
   ]
  },
  {
   "cell_type": "code",
   "execution_count": 1,
   "metadata": {},
   "outputs": [
    {
     "name": "stdout",
     "output_type": "stream",
     "text": [
      "<class '_sre.SRE_Pattern'>\n"
     ]
    }
   ],
   "source": [
    "import re as rgx\n",
    "pattern = rgx.compile(\"python\")\n",
    "print(type(pattern))\n"
   ]
  },
  {
   "cell_type": "code",
   "execution_count": 2,
   "metadata": {
    "collapsed": true
   },
   "outputs": [],
   "source": [
    "matched = pattern.finditer(\"Learing python is very easy ...\")"
   ]
  },
  {
   "cell_type": "code",
   "execution_count": null,
   "metadata": {
    "collapsed": true
   },
   "outputs": [],
   "source": [
    "start()\n",
    "end()\n",
    "group()"
   ]
  },
  {
   "cell_type": "markdown",
   "metadata": {},
   "source": [
    "## 2"
   ]
  },
  {
   "cell_type": "code",
   "execution_count": 2,
   "metadata": {
    "collapsed": true
   },
   "outputs": [],
   "source": [
    "import re as rgx"
   ]
  },
  {
   "cell_type": "code",
   "execution_count": 62,
   "metadata": {
    "collapsed": true
   },
   "outputs": [],
   "source": [
    "pattern = rgx.compile(\"jack\")"
   ]
  },
  {
   "cell_type": "code",
   "execution_count": 4,
   "metadata": {},
   "outputs": [
    {
     "name": "stdout",
     "output_type": "stream",
     "text": [
      "<class '_sre.SRE_Pattern'>\n"
     ]
    }
   ],
   "source": [
    "print(type(pattern))"
   ]
  },
  {
   "cell_type": "code",
   "execution_count": 63,
   "metadata": {
    "collapsed": true
   },
   "outputs": [],
   "source": [
    "matcher = pattern.finditer(\"iam jack fight club jack\")"
   ]
  },
  {
   "cell_type": "code",
   "execution_count": 64,
   "metadata": {},
   "outputs": [
    {
     "name": "stdout",
     "output_type": "stream",
     "text": [
      "The match found at 4 for value jack\n",
      "The match found at 20 for value jack\n",
      "Total Number of Matches : 2\n"
     ]
    }
   ],
   "source": [
    "count = 0\n",
    "for m in matcher:\n",
    "    print(\"The match found at {} for value {}\".format(m.start(),m.group()))\n",
    "    count += 1\n",
    "print(\"Total Number of Matches : {}\".format(count))"
   ]
  },
  {
   "cell_type": "code",
   "execution_count": 7,
   "metadata": {},
   "outputs": [
    {
     "name": "stdout",
     "output_type": "stream",
     "text": [
      "Match start index for each match is : 4\n",
      "Match start index for each match is : 20\n",
      "Total Number of Matches :  2\n"
     ]
    }
   ],
   "source": [
    "count = 0\n",
    "for match in matcher:\n",
    "    print(\"Match start index for each match is :\",match.start())\n",
    "    count += 1\n",
    "    \n",
    "print(\"Total Number of Matches : \",count)"
   ]
  },
  {
   "cell_type": "code",
   "execution_count": 11,
   "metadata": {
    "collapsed": true
   },
   "outputs": [],
   "source": [
    "pattern = rgx.compile(\"ab\")"
   ]
  },
  {
   "cell_type": "code",
   "execution_count": 13,
   "metadata": {
    "collapsed": true
   },
   "outputs": [],
   "source": [
    "matcher = pattern.finditer(\"abaababaaa\")"
   ]
  },
  {
   "cell_type": "code",
   "execution_count": 14,
   "metadata": {},
   "outputs": [
    {
     "name": "stdout",
     "output_type": "stream",
     "text": [
      "Match start index for each match is : 0\n",
      "Match start index for each match is : 3\n",
      "Match start index for each match is : 5\n",
      "Total Number of Matches :  3\n"
     ]
    }
   ],
   "source": [
    "count = 0\n",
    "for match in matcher:\n",
    "    print(\"Match start index for each match is :\",match.start())\n",
    "    count += 1\n",
    "print(\"Total Number of Matches : \",count)"
   ]
  },
  {
   "cell_type": "code",
   "execution_count": 8,
   "metadata": {
    "collapsed": true
   },
   "outputs": [],
   "source": [
    "s = \"Lorem Ipsum is simply dummy text of the python and typesetting industry. Lorem Ipsum has been the industry's standard dummy text ever since the 1500s, when an unknown printer took a galley of type and scrambled it to make a type specimen book. It has survived not only five centuries, but also the leap into electronic typesetting, remaining essentially unchanged. It was popularised in the 1960s with the release of Letraset Python containing Lorem Ipsum passages, and more recently with desktoppublishing software like Aldus PageMaker python versions of Lorem Ipsum\""
   ]
  },
  {
   "cell_type": "code",
   "execution_count": 9,
   "metadata": {
    "collapsed": true
   },
   "outputs": [],
   "source": [
    "pattern = rgx.compile(\"Ipsum\")"
   ]
  },
  {
   "cell_type": "code",
   "execution_count": 10,
   "metadata": {
    "collapsed": true
   },
   "outputs": [],
   "source": [
    "matcher = pattern.finditer(s)"
   ]
  },
  {
   "cell_type": "code",
   "execution_count": 11,
   "metadata": {},
   "outputs": [
    {
     "name": "stdout",
     "output_type": "stream",
     "text": [
      "start index for each match is : 6\n",
      "start index for each match is : 79\n",
      "start index for each match is : 450\n",
      "start index for each match is : 562\n",
      "Total number of matches :  4\n"
     ]
    }
   ],
   "source": [
    "count = 0\n",
    "for match in matcher:\n",
    "    print(\"start index for each match is :\",match.start())\n",
    "    count +=1\n",
    "    \n",
    "print(\"Total number of matches : \",count)"
   ]
  },
  {
   "cell_type": "code",
   "execution_count": 52,
   "metadata": {},
   "outputs": [
    {
     "data": {
      "text/plain": [
       "'Ipsum'"
      ]
     },
     "execution_count": 52,
     "metadata": {},
     "output_type": "execute_result"
    }
   ],
   "source": [
    "s[562:567]"
   ]
  },
  {
   "cell_type": "code",
   "execution_count": 12,
   "metadata": {
    "collapsed": true
   },
   "outputs": [],
   "source": [
    "pattern = rgx.compile(\"dummy\")"
   ]
  },
  {
   "cell_type": "code",
   "execution_count": 13,
   "metadata": {
    "collapsed": true
   },
   "outputs": [],
   "source": [
    "matcher = pattern.finditer(s)"
   ]
  },
  {
   "cell_type": "code",
   "execution_count": 14,
   "metadata": {},
   "outputs": [
    {
     "name": "stdout",
     "output_type": "stream",
     "text": [
      "Start Index 22 End Index 27 Word: dummy\n",
      "Start Index 118 End Index 123 Word: dummy\n",
      "Total number of matches :  2\n"
     ]
    }
   ],
   "source": [
    "count = 0\n",
    "for match in matcher:\n",
    "    print(\"Start Index {} End Index {} Word: {}\".format(match.start(),match.end(),match.group()))\n",
    "    count +=1\n",
    "    \n",
    "print(\"Total number of matches : \",count)"
   ]
  },
  {
   "cell_type": "code",
   "execution_count": 15,
   "metadata": {
    "collapsed": true
   },
   "outputs": [],
   "source": [
    "matcher = rgx.finditer(\"du\",\"dummy\")"
   ]
  },
  {
   "cell_type": "code",
   "execution_count": 16,
   "metadata": {},
   "outputs": [
    {
     "name": "stdout",
     "output_type": "stream",
     "text": [
      "Start Index 0 End Index 2 Word: du\n",
      "Total number of matches :  1\n"
     ]
    }
   ],
   "source": [
    "count = 0\n",
    "for match in matcher:\n",
    "    print(\"Start Index {} End Index {} Word: {}\".format(match.start(),match.end(),match.group()))\n",
    "    count +=1\n",
    "    \n",
    "print(\"Total number of matches : \",count)"
   ]
  },
  {
   "cell_type": "code",
   "execution_count": 17,
   "metadata": {
    "collapsed": true
   },
   "outputs": [],
   "source": [
    "s = \"The quick brown fox jumps over the lazy dog quick brown fox dog\""
   ]
  },
  {
   "cell_type": "code",
   "execution_count": 19,
   "metadata": {
    "collapsed": true
   },
   "outputs": [],
   "source": [
    "pattern = rgx.compile(\"brown\")"
   ]
  },
  {
   "cell_type": "code",
   "execution_count": 20,
   "metadata": {
    "collapsed": true
   },
   "outputs": [],
   "source": [
    "matched = pattern.finditer(s)"
   ]
  },
  {
   "cell_type": "code",
   "execution_count": 21,
   "metadata": {},
   "outputs": [
    {
     "name": "stdout",
     "output_type": "stream",
     "text": [
      "The start index is 10 and the end index is 15 for the word brown\n",
      "The start index is 50 and the end index is 55 for the word brown\n",
      "Total matches for the word is 2\n"
     ]
    }
   ],
   "source": [
    "count = 0\n",
    "for match in matched:\n",
    "    print(\"The start index is {} and the end index is {} for the word {}\".format(match.start(),match.end(),match.group()))\n",
    "    count +=1\n",
    "print(\"Total matches for the word is {}\".format(count))"
   ]
  },
  {
   "cell_type": "code",
   "execution_count": null,
   "metadata": {
    "collapsed": true
   },
   "outputs": [],
   "source": []
  },
  {
   "cell_type": "markdown",
   "metadata": {},
   "source": [
    "# character classes"
   ]
  },
  {
   "cell_type": "code",
   "execution_count": 71,
   "metadata": {
    "collapsed": true
   },
   "outputs": [],
   "source": [
    "#1 [abc]  ----> a or b or c\n",
    "#2 [^abc] ----> any charcter other than abc\n",
    "#3 [a-z]  ----> lower case from a to z\n",
    "#4 [A-Z]  ----> upper case from A to Z\n",
    "#5 [a-zA-Z] ---> any alphabet from lower case or upper case\n",
    "#6 [0-9] ---> any digit\n",
    "#7 [a-zA-Z0-9] ---> alpha numeric\n",
    "#8 [^a-zA-Z0-9] ---> spl chars "
   ]
  },
  {
   "cell_type": "code",
   "execution_count": 37,
   "metadata": {
    "collapsed": true
   },
   "outputs": [],
   "source": [
    "# find a or b or c\n",
    "matcher = rgx.finditer(\"[abc]\",\"a7b@k9z\")"
   ]
  },
  {
   "cell_type": "code",
   "execution_count": 38,
   "metadata": {},
   "outputs": [
    {
     "name": "stdout",
     "output_type": "stream",
     "text": [
      "start Index :: 0 Word : a\n",
      "start Index :: 2 Word : b\n"
     ]
    }
   ],
   "source": [
    "for m in matcher:\n",
    "    print(\"start Index :: {} Word : {}\".format(m.start(),m.group()))"
   ]
  },
  {
   "cell_type": "code",
   "execution_count": 40,
   "metadata": {},
   "outputs": [
    {
     "name": "stdout",
     "output_type": "stream",
     "text": [
      "start Index :: 1 Word : 7\n",
      "start Index :: 3 Word : @\n",
      "start Index :: 4 Word : k\n",
      "start Index :: 5 Word : 9\n",
      "start Index :: 6 Word : z\n"
     ]
    }
   ],
   "source": [
    "# except a,b,c find any other \n",
    "matcher = rgx.finditer(\"[^abc]\",\"a7b@k9z\")\n",
    "for m in matcher:\n",
    "    print(\"start Index :: {} Word : {}\".format(m.start(),m.group()))"
   ]
  },
  {
   "cell_type": "code",
   "execution_count": 41,
   "metadata": {},
   "outputs": [
    {
     "name": "stdout",
     "output_type": "stream",
     "text": [
      "start Index :: 0 Word : a\n",
      "start Index :: 2 Word : b\n",
      "start Index :: 4 Word : k\n",
      "start Index :: 6 Word : z\n"
     ]
    }
   ],
   "source": [
    "# any lower case  \n",
    "matcher = rgx.finditer(\"[a-z]\",\"a7b@k9z\")\n",
    "for m in matcher:\n",
    "    print(\"start Index :: {} Word : {}\".format(m.start(),m.group()))"
   ]
  },
  {
   "cell_type": "code",
   "execution_count": 42,
   "metadata": {},
   "outputs": [
    {
     "name": "stdout",
     "output_type": "stream",
     "text": [
      "start Index :: 7 Word : D\n"
     ]
    }
   ],
   "source": [
    "# any upper case  \n",
    "matcher = rgx.finditer(\"[A-Z]\",\"a7b@k9zD\")\n",
    "for m in matcher:\n",
    "    print(\"start Index :: {} Word : {}\".format(m.start(),m.group()))"
   ]
  },
  {
   "cell_type": "code",
   "execution_count": 43,
   "metadata": {},
   "outputs": [
    {
     "name": "stdout",
     "output_type": "stream",
     "text": [
      "start Index :: 0 Word : a\n",
      "start Index :: 2 Word : b\n",
      "start Index :: 4 Word : k\n",
      "start Index :: 6 Word : z\n",
      "start Index :: 7 Word : D\n"
     ]
    }
   ],
   "source": [
    "# any upper case or lower case \n",
    "matcher = rgx.finditer(\"[A-Za-z]\",\"a7b@k9zD\")\n",
    "for m in matcher:\n",
    "    print(\"start Index :: {} Word : {}\".format(m.start(),m.group()))"
   ]
  },
  {
   "cell_type": "code",
   "execution_count": 44,
   "metadata": {},
   "outputs": [
    {
     "name": "stdout",
     "output_type": "stream",
     "text": [
      "start Index :: 1 Word : 7\n",
      "start Index :: 5 Word : 9\n"
     ]
    }
   ],
   "source": [
    "# any numeric\n",
    "matcher = rgx.finditer(\"[0-9]\",\"a7b@k9zD\")\n",
    "for m in matcher:\n",
    "    print(\"start Index :: {} Word : {}\".format(m.start(),m.group()))"
   ]
  },
  {
   "cell_type": "code",
   "execution_count": 45,
   "metadata": {},
   "outputs": [
    {
     "name": "stdout",
     "output_type": "stream",
     "text": [
      "start Index :: 0 Word : a\n",
      "start Index :: 1 Word : 7\n",
      "start Index :: 2 Word : b\n",
      "start Index :: 4 Word : k\n",
      "start Index :: 5 Word : 9\n",
      "start Index :: 6 Word : z\n",
      "start Index :: 7 Word : D\n"
     ]
    }
   ],
   "source": [
    "# alpha numeric\n",
    "matcher = rgx.finditer(\"[a-zA-Z0-9]\",\"a7b@k9zD\")\n",
    "for m in matcher:\n",
    "    print(\"start Index :: {} Word : {}\".format(m.start(),m.group()))"
   ]
  },
  {
   "cell_type": "code",
   "execution_count": 46,
   "metadata": {},
   "outputs": [
    {
     "name": "stdout",
     "output_type": "stream",
     "text": [
      "start Index :: 3 Word : @\n"
     ]
    }
   ],
   "source": [
    "# other than alpha numeric ie spl symbols\n",
    "matcher = rgx.finditer(\"[^a-zA-Z0-9]\",\"a7b@k9zD\")\n",
    "for m in matcher:\n",
    "    print(\"start Index :: {} Word : {}\".format(m.start(),m.group()))"
   ]
  },
  {
   "cell_type": "markdown",
   "metadata": {},
   "source": [
    "# pre-defined character classes"
   ]
  },
  {
   "cell_type": "code",
   "execution_count": null,
   "metadata": {
    "collapsed": true
   },
   "outputs": [],
   "source": [
    "# \\s --> space char \n",
    "# \\S --> except space char\n",
    "# \\d --> any digit \n",
    "# \\D --> except any digit\n",
    "# \\w --> any word (alpha numeric)\n",
    "# \\W --> any char except word (spl chars)\n",
    "#  . --> every charcter"
   ]
  },
  {
   "cell_type": "code",
   "execution_count": 47,
   "metadata": {},
   "outputs": [
    {
     "name": "stdout",
     "output_type": "stream",
     "text": [
      "start Index :: 3 Word :  \n"
     ]
    }
   ],
   "source": [
    "# space char \n",
    "matcher = rgx.finditer(\"\\s\",\"a7b @k9zD\")\n",
    "for m in matcher:\n",
    "    print(\"start Index :: {} Word : {}\".format(m.start(),m.group()))"
   ]
  },
  {
   "cell_type": "code",
   "execution_count": 49,
   "metadata": {},
   "outputs": [
    {
     "name": "stdout",
     "output_type": "stream",
     "text": [
      "start Index :: 0 Word : a\n",
      "start Index :: 1 Word : 7\n",
      "start Index :: 2 Word : b\n",
      "start Index :: 4 Word : @\n",
      "start Index :: 5 Word : k\n",
      "start Index :: 6 Word : 9\n",
      "start Index :: 7 Word : z\n",
      "start Index :: 8 Word : D\n"
     ]
    }
   ],
   "source": [
    "# except space char \n",
    "matcher = rgx.finditer(\"\\S\",\"a7b @k9zD\")\n",
    "for m in matcher:\n",
    "    print(\"start Index :: {} Word : {}\".format(m.start(),m.group()))"
   ]
  },
  {
   "cell_type": "code",
   "execution_count": 50,
   "metadata": {},
   "outputs": [
    {
     "name": "stdout",
     "output_type": "stream",
     "text": [
      "start Index :: 1 Word : 7\n",
      "start Index :: 6 Word : 9\n"
     ]
    }
   ],
   "source": [
    "# only digits\n",
    "matcher = rgx.finditer(\"\\d\",\"a7b @k9zD\")\n",
    "for m in matcher:\n",
    "    print(\"start Index :: {} Word : {}\".format(m.start(),m.group()))"
   ]
  },
  {
   "cell_type": "code",
   "execution_count": 51,
   "metadata": {},
   "outputs": [
    {
     "name": "stdout",
     "output_type": "stream",
     "text": [
      "start Index :: 0 Word : a\n",
      "start Index :: 2 Word : b\n",
      "start Index :: 3 Word :  \n",
      "start Index :: 4 Word : @\n",
      "start Index :: 5 Word : k\n",
      "start Index :: 7 Word : z\n",
      "start Index :: 8 Word : D\n"
     ]
    }
   ],
   "source": [
    "# excpt digits\n",
    "matcher = rgx.finditer(\"\\D\",\"a7b @k9zD\")\n",
    "for m in matcher:\n",
    "    print(\"start Index :: {} Word : {}\".format(m.start(),m.group()))"
   ]
  },
  {
   "cell_type": "code",
   "execution_count": 52,
   "metadata": {},
   "outputs": [
    {
     "name": "stdout",
     "output_type": "stream",
     "text": [
      "start Index :: 0 Word : a\n",
      "start Index :: 1 Word : 7\n",
      "start Index :: 2 Word : b\n",
      "start Index :: 5 Word : k\n",
      "start Index :: 6 Word : 9\n",
      "start Index :: 7 Word : z\n",
      "start Index :: 8 Word : D\n"
     ]
    }
   ],
   "source": [
    "# alpha numeric\n",
    "matcher = rgx.finditer(\"\\w\",\"a7b @k9zD\")\n",
    "for m in matcher:\n",
    "    print(\"start Index :: {} Word : {}\".format(m.start(),m.group()))"
   ]
  },
  {
   "cell_type": "code",
   "execution_count": 53,
   "metadata": {},
   "outputs": [
    {
     "name": "stdout",
     "output_type": "stream",
     "text": [
      "start Index :: 3 Word :  \n",
      "start Index :: 4 Word : @\n"
     ]
    }
   ],
   "source": [
    "# except alpha numeric\n",
    "matcher = rgx.finditer(\"\\W\",\"a7b @k9zD\")\n",
    "for m in matcher:\n",
    "    print(\"start Index :: {} Word : {}\".format(m.start(),m.group()))"
   ]
  },
  {
   "cell_type": "code",
   "execution_count": 56,
   "metadata": {},
   "outputs": [
    {
     "name": "stdout",
     "output_type": "stream",
     "text": [
      "start Index :: 0 Word : a\n",
      "start Index :: 1 Word : 7\n",
      "start Index :: 2 Word : b\n",
      "start Index :: 3 Word :  \n",
      "start Index :: 4 Word : @\n",
      "start Index :: 5 Word : k\n",
      "start Index :: 6 Word : 9\n",
      "start Index :: 7 Word : z\n",
      "start Index :: 8 Word : D\n"
     ]
    }
   ],
   "source": [
    "# any\n",
    "matcher = rgx.finditer(\".\",\"a7b @k9zD\")\n",
    "for m in matcher:\n",
    "    print(\"start Index :: {} Word : {}\".format(m.start(),m.group()))"
   ]
  },
  {
   "cell_type": "markdown",
   "metadata": {},
   "source": [
    "# Quantifiers"
   ]
  },
  {
   "cell_type": "code",
   "execution_count": 57,
   "metadata": {
    "collapsed": true
   },
   "outputs": [],
   "source": [
    "import re as rgx"
   ]
  },
  {
   "cell_type": "code",
   "execution_count": 58,
   "metadata": {},
   "outputs": [
    {
     "name": "stdout",
     "output_type": "stream",
     "text": [
      "start index :: 0 word : a\n",
      "start index :: 2 word : a\n",
      "start index :: 3 word : a\n",
      "start index :: 5 word : a\n",
      "start index :: 6 word : a\n",
      "start index :: 7 word : a\n",
      "Total Matches 6\n"
     ]
    }
   ],
   "source": [
    "# search for a\n",
    "# a excatly one (a)\n",
    "count = 0\n",
    "matches = rgx.finditer(\"a\",\"abaabaaab\")\n",
    "for match in matches:\n",
    "    print(\"start index :: {} word : {}\".format(match.start(),match.group()))\n",
    "    count +=1\n",
    "print(\"Total Matches\",count)"
   ]
  },
  {
   "cell_type": "code",
   "execution_count": 60,
   "metadata": {},
   "outputs": [
    {
     "name": "stdout",
     "output_type": "stream",
     "text": [
      "start index :: 0 word : a\n",
      "start index :: 2 word : aa\n",
      "start index :: 5 word : aaa\n",
      "Total Matches 3\n"
     ]
    }
   ],
   "source": [
    "# a+ atleast one (a)\n",
    "count = 0\n",
    "matches = rgx.finditer(\"a+\",\"abaabaaab\")\n",
    "for match in matches:\n",
    "    print(\"start index :: {} word : {}\".format(match.start(),match.group()))\n",
    "    count +=1\n",
    "print(\"Total Matches\",count)"
   ]
  },
  {
   "cell_type": "code",
   "execution_count": 61,
   "metadata": {},
   "outputs": [
    {
     "name": "stdout",
     "output_type": "stream",
     "text": [
      "start index :: 0 word : a\n",
      "start index :: 1 word : \n",
      "start index :: 2 word : aa\n",
      "start index :: 4 word : \n",
      "start index :: 5 word : aaa\n",
      "start index :: 8 word : \n",
      "start index :: 9 word : \n",
      "Total Matches 7\n"
     ]
    }
   ],
   "source": [
    "# a* any number of (a)s including zero\n",
    "count = 0\n",
    "matches = rgx.finditer(\"a*\",\"abaabaaab\")\n",
    "for match in matches:\n",
    "    print(\"start index :: {} word : {}\".format(match.start(),match.group()))\n",
    "    count +=1\n",
    "print(\"Total Matches\",count)"
   ]
  },
  {
   "cell_type": "code",
   "execution_count": 62,
   "metadata": {},
   "outputs": [
    {
     "name": "stdout",
     "output_type": "stream",
     "text": [
      "start index :: 0 word : a\n",
      "start index :: 1 word : \n",
      "start index :: 2 word : a\n",
      "start index :: 3 word : a\n",
      "start index :: 4 word : \n",
      "start index :: 5 word : a\n",
      "start index :: 6 word : a\n",
      "start index :: 7 word : a\n",
      "start index :: 8 word : \n",
      "start index :: 9 word : \n",
      "Total Matches 10\n"
     ]
    }
   ],
   "source": [
    "# a? atmost one (a), either one (a) or zero (a)s\n",
    "count = 0\n",
    "matches = rgx.finditer(\"a?\",\"abaabaaab\")\n",
    "for match in matches:\n",
    "    print(\"start index :: {} word : {}\".format(match.start(),match.group()))\n",
    "    count +=1\n",
    "print(\"Total Matches\",count)"
   ]
  },
  {
   "cell_type": "code",
   "execution_count": 63,
   "metadata": {},
   "outputs": [
    {
     "name": "stdout",
     "output_type": "stream",
     "text": [
      "start index :: 5 word : aaa\n",
      "Total Matches 1\n"
     ]
    }
   ],
   "source": [
    "# a{3} exactly a{3} s\n",
    "count = 0\n",
    "matches = rgx.finditer(\"a{3}\",\"abaabaaab\")\n",
    "for match in matches:\n",
    "    print(\"start index :: {} word : {}\".format(match.start(),match.group()))\n",
    "    count +=1\n",
    "print(\"Total Matches\",count)"
   ]
  },
  {
   "cell_type": "code",
   "execution_count": 64,
   "metadata": {},
   "outputs": [
    {
     "name": "stdout",
     "output_type": "stream",
     "text": [
      "start index :: 2 word : aa\n",
      "start index :: 5 word : aaa\n",
      "Total Matches 2\n"
     ]
    }
   ],
   "source": [
    "# a{m,n} m = min of a, n= max of a\n",
    "# a{2,3} exactly a{2,3} s\n",
    "count = 0\n",
    "matches = rgx.finditer(\"a{2,3}\",\"abaabaaab\")\n",
    "for match in matches:\n",
    "    print(\"start index :: {} word : {}\".format(match.start(),match.group()))\n",
    "    count +=1\n",
    "print(\"Total Matches\",count)"
   ]
  },
  {
   "cell_type": "code",
   "execution_count": 68,
   "metadata": {},
   "outputs": [
    {
     "name": "stdout",
     "output_type": "stream",
     "text": [
      "start index :: 2 word : aa\n",
      "start index :: 5 word : aaa\n",
      "start index :: 9 word : aaa\n",
      "Total Matches 3\n"
     ]
    }
   ],
   "source": [
    "# a{m,n} m = min of a, n= max of a\n",
    "# a{1,3} exactly a{2,3} s\n",
    "count = 0\n",
    "matches = rgx.finditer(\"a{2,3}\",\"abaabaaabaaaa\")\n",
    "for match in matches:\n",
    "    print(\"start index :: {} word : {}\".format(match.start(),match.group()))\n",
    "    count +=1\n",
    "print(\"Total Matches\",count)"
   ]
  },
  {
   "cell_type": "code",
   "execution_count": 69,
   "metadata": {},
   "outputs": [
    {
     "name": "stdout",
     "output_type": "stream",
     "text": [
      "start index :: 0 word : a\n",
      "start index :: 2 word : aa\n",
      "start index :: 5 word : aa\n",
      "start index :: 7 word : a\n",
      "Total Matches 4\n"
     ]
    }
   ],
   "source": [
    "# a{m,n} m = min of a, n= max of a\n",
    "# a{1,2} exactly a{2,3} s\n",
    "count = 0\n",
    "matches = rgx.finditer(\"a{1,2}\",\"abaabaaab\")\n",
    "for match in matches:\n",
    "    print(\"start index :: {} word : {}\".format(match.start(),match.group()))\n",
    "    count +=1\n",
    "print(\"Total Matches\",count)"
   ]
  },
  {
   "cell_type": "code",
   "execution_count": 91,
   "metadata": {},
   "outputs": [
    {
     "name": "stdout",
     "output_type": "stream",
     "text": [
      "start index :: 5 word : aaa\n",
      "start index :: 10 word : aaaa\n",
      "start index :: 15 word : aaaaaa\n",
      "Total Matches 3\n"
     ]
    }
   ],
   "source": [
    "#a{3}a*\n",
    "# minimum 3 a's after that any number of a's\n",
    "count = 0\n",
    "matches = rgx.finditer(\"a{3}a*\",\"abaabaaaccaaaabaaaaaa\")\n",
    "for match in matches:\n",
    "    print(\"start index :: {} word : {}\".format(match.start(),match.group()))\n",
    "    count +=1\n",
    "print(\"Total Matches\",count)"
   ]
  },
  {
   "cell_type": "code",
   "execution_count": 92,
   "metadata": {},
   "outputs": [
    {
     "name": "stdout",
     "output_type": "stream",
     "text": [
      "start index :: 2 word : aabaaaccaaaa\n",
      "Total Matches 1\n"
     ]
    }
   ],
   "source": [
    "#a{3}a*\n",
    "# minimum 3 a's after that any thing\n",
    "count = 0\n",
    "matches = rgx.finditer(\"a{2}.*\",\"abaabaaaccaaaa\")\n",
    "for match in matches:\n",
    "    print(\"start index :: {} word : {}\".format(match.start(),match.group()))\n",
    "    count +=1\n",
    "print(\"Total Matches\",count)"
   ]
  },
  {
   "cell_type": "code",
   "execution_count": null,
   "metadata": {
    "collapsed": true
   },
   "outputs": [],
   "source": [
    "# ^a  weather the target string does it start with a or not\n",
    "# a$  weather the target string does it ends with a or not"
   ]
  },
  {
   "cell_type": "code",
   "execution_count": 86,
   "metadata": {},
   "outputs": [
    {
     "name": "stdout",
     "output_type": "stream",
     "text": [
      "start index :: 0 word : a\n",
      "Total Matches 1\n"
     ]
    }
   ],
   "source": [
    "# ^a  weather the target string does it start with a or not\n",
    "count = 0\n",
    "matches = rgx.finditer(\"^a\",\"abaabaaab\")\n",
    "for match in matches:\n",
    "    print(\"start index :: {} word : {}\".format(match.start(),match.group()))\n",
    "    count +=1\n",
    "print(\"Total Matches\",count)"
   ]
  },
  {
   "cell_type": "code",
   "execution_count": 88,
   "metadata": {},
   "outputs": [
    {
     "name": "stdout",
     "output_type": "stream",
     "text": [
      "Total Matches 0\n"
     ]
    }
   ],
   "source": [
    "# a$  weather the target string does it end with a or not\n",
    "count = 0\n",
    "matches = rgx.finditer(\"a$\",\"abaabaaab\")\n",
    "for match in matches:\n",
    "    print(\"start index :: {} word : {}\".format(match.start(),match.group()))\n",
    "    count +=1\n",
    "print(\"Total Matches\",count)"
   ]
  },
  {
   "cell_type": "code",
   "execution_count": 89,
   "metadata": {},
   "outputs": [
    {
     "name": "stdout",
     "output_type": "stream",
     "text": [
      "start index :: 8 word : b\n",
      "Total Matches 1\n"
     ]
    }
   ],
   "source": [
    "# b$  weather the target string does it end with a or not\n",
    "count = 0\n",
    "matches = rgx.finditer(\"b$\",\"abaabaaab\")\n",
    "for match in matches:\n",
    "    print(\"start index :: {} word : {}\".format(match.start(),match.group()))\n",
    "    count +=1\n",
    "print(\"Total Matches\",count)"
   ]
  },
  {
   "cell_type": "markdown",
   "metadata": {},
   "source": [
    "# import functions in the re  module:"
   ]
  },
  {
   "cell_type": "markdown",
   "metadata": {},
   "source": [
    "#1 match()\n",
    "#2 fullmatch()\n",
    "#3 search()\n",
    "#4 findall()\n",
    "#5 finditer()\n",
    "#6 sub()\n",
    "#7 subn()\n",
    "#8 split()\n",
    "#9 compile()"
   ]
  },
  {
   "cell_type": "code",
   "execution_count": 119,
   "metadata": {
    "collapsed": true
   },
   "outputs": [],
   "source": [
    "#1 match():\n",
    "# to check the given pattern in a given is at the begining or not\n",
    "# if availble"
   ]
  },
  {
   "cell_type": "code",
   "execution_count": 43,
   "metadata": {},
   "outputs": [
    {
     "name": "stdout",
     "output_type": "stream",
     "text": [
      "Enter the pattern to match :ab\n"
     ]
    }
   ],
   "source": [
    "val = input(\"Enter the pattern to match :\")"
   ]
  },
  {
   "cell_type": "code",
   "execution_count": 44,
   "metadata": {},
   "outputs": [
    {
     "name": "stdout",
     "output_type": "stream",
     "text": [
      "No match\n"
     ]
    }
   ],
   "source": [
    "m = rgx.match(val,\"cdefgab\")\n",
    "if m != None:\n",
    "    print(\"Match at beginging string start Index :: {}  and  end Index :: {}\".format(m.start(),m.end()))\n",
    "else:\n",
    "    print(\"No match\")"
   ]
  },
  {
   "cell_type": "code",
   "execution_count": 127,
   "metadata": {
    "collapsed": true
   },
   "outputs": [],
   "source": [
    "#2 fullmatch(): to match pattern with total target string"
   ]
  },
  {
   "cell_type": "code",
   "execution_count": 28,
   "metadata": {},
   "outputs": [
    {
     "name": "stdout",
     "output_type": "stream",
     "text": [
      "Enter the pattern to match : shashank\n"
     ]
    }
   ],
   "source": [
    "val = input(\"Enter the pattern to match : \")"
   ]
  },
  {
   "cell_type": "code",
   "execution_count": 29,
   "metadata": {},
   "outputs": [
    {
     "name": "stdout",
     "output_type": "stream",
     "text": [
      "full match\n"
     ]
    }
   ],
   "source": [
    "m = rgx.fullmatch(val,\"shashank\")\n",
    "if m != None:\n",
    "    print(\"full match\")\n",
    "else:\n",
    "    print(\"No Match\")"
   ]
  },
  {
   "cell_type": "code",
   "execution_count": 142,
   "metadata": {
    "collapsed": true
   },
   "outputs": [],
   "source": [
    "# search() first occurence "
   ]
  },
  {
   "cell_type": "code",
   "execution_count": 30,
   "metadata": {},
   "outputs": [
    {
     "name": "stdout",
     "output_type": "stream",
     "text": [
      "Enter the pattern to matchab\n"
     ]
    }
   ],
   "source": [
    "val = input(\"Enter the pattern to match\")"
   ]
  },
  {
   "cell_type": "code",
   "execution_count": 31,
   "metadata": {},
   "outputs": [
    {
     "name": "stdout",
     "output_type": "stream",
     "text": [
      "Match start :: 0  End 2\n"
     ]
    }
   ],
   "source": [
    "m = rgx.search(val,\"abaabaaab\")\n",
    "if m != None:\n",
    "    print(\"Match start :: {}  End {}\".format(m.start(),m.end()))\n",
    "else:\n",
    "    print(\"No match\")"
   ]
  },
  {
   "cell_type": "code",
   "execution_count": null,
   "metadata": {
    "collapsed": true
   },
   "outputs": [],
   "source": [
    "#4 findall() : find all the matches "
   ]
  },
  {
   "cell_type": "code",
   "execution_count": 32,
   "metadata": {},
   "outputs": [
    {
     "name": "stdout",
     "output_type": "stream",
     "text": [
      "['7', '8', '9']\n"
     ]
    }
   ],
   "source": [
    "ls = rgx.findall('[0-9]',\"a7b8@k9zD\")\n",
    "print(ls)"
   ]
  },
  {
   "cell_type": "code",
   "execution_count": 34,
   "metadata": {
    "collapsed": true
   },
   "outputs": [],
   "source": [
    "s = \" The quick brown fox the fox is he fox FOX Fox\""
   ]
  },
  {
   "cell_type": "code",
   "execution_count": 35,
   "metadata": {},
   "outputs": [
    {
     "name": "stdout",
     "output_type": "stream",
     "text": [
      "['fox', 'fox', 'fox', 'FOX', 'Fox']\n"
     ]
    }
   ],
   "source": [
    "ls = rgx.findall('fox',s,rgx.IGNORECASE)\n",
    "print(ls)"
   ]
  },
  {
   "cell_type": "code",
   "execution_count": 150,
   "metadata": {
    "collapsed": true
   },
   "outputs": [],
   "source": [
    "#5 finditer()"
   ]
  },
  {
   "cell_type": "code",
   "execution_count": 147,
   "metadata": {},
   "outputs": [
    {
     "name": "stdout",
     "output_type": "stream",
     "text": [
      "index word fox\n",
      "index word fox\n",
      "index word fox\n",
      "index word FOX\n",
      "index word Fox\n"
     ]
    }
   ],
   "source": [
    "ma = rgx.finditer(\"fox\",s,rgx.IGNORECASE)\n",
    "for match in ma:\n",
    "        print(\"index word {}\".format(match.group()))"
   ]
  },
  {
   "cell_type": "code",
   "execution_count": 138,
   "metadata": {
    "collapsed": true
   },
   "outputs": [],
   "source": [
    "pattern  = rgx.compile(\"fox\")"
   ]
  },
  {
   "cell_type": "code",
   "execution_count": 144,
   "metadata": {
    "collapsed": true
   },
   "outputs": [],
   "source": [
    "matched = pattern.finditer(s,rgx.IGNORECASE)"
   ]
  },
  {
   "cell_type": "code",
   "execution_count": 140,
   "metadata": {},
   "outputs": [
    {
     "name": "stdout",
     "output_type": "stream",
     "text": [
      "index word fox\n",
      "index word fox\n",
      "index word fox\n"
     ]
    }
   ],
   "source": [
    "for match in matched:\n",
    "        print(\"index word {}\".format(match.group()))"
   ]
  },
  {
   "cell_type": "code",
   "execution_count": null,
   "metadata": {
    "collapsed": true
   },
   "outputs": [],
   "source": []
  },
  {
   "cell_type": "code",
   "execution_count": 151,
   "metadata": {
    "collapsed": true
   },
   "outputs": [],
   "source": [
    "#6 sub(): substitution or replacememt"
   ]
  },
  {
   "cell_type": "code",
   "execution_count": null,
   "metadata": {
    "collapsed": true
   },
   "outputs": [],
   "source": [
    "#rgx.sub(\"regex\",\"replace\",\"targetstrint\")"
   ]
  },
  {
   "cell_type": "code",
   "execution_count": 36,
   "metadata": {
    "collapsed": true
   },
   "outputs": [],
   "source": [
    "s = rgx.sub(\"\\d\",\"#\",\"a7b8@k9zD\")"
   ]
  },
  {
   "cell_type": "code",
   "execution_count": 37,
   "metadata": {},
   "outputs": [
    {
     "name": "stdout",
     "output_type": "stream",
     "text": [
      "a#b#@k#zD\n"
     ]
    }
   ],
   "source": [
    "print(s)"
   ]
  },
  {
   "cell_type": "code",
   "execution_count": 154,
   "metadata": {
    "collapsed": true
   },
   "outputs": [],
   "source": [
    "#7 subn(): get the number of replacememts"
   ]
  },
  {
   "cell_type": "code",
   "execution_count": 38,
   "metadata": {},
   "outputs": [
    {
     "name": "stdout",
     "output_type": "stream",
     "text": [
      "('a#b#@k#zD', 3)\n"
     ]
    }
   ],
   "source": [
    "s = rgx.subn(\"\\d\",\"#\",\"a7b8@k9zD\")\n",
    "print(s)\n",
    "#type(s) --> tuple"
   ]
  },
  {
   "cell_type": "code",
   "execution_count": 159,
   "metadata": {
    "collapsed": true
   },
   "outputs": [],
   "source": [
    "#8 split() : split according to a given pattern"
   ]
  },
  {
   "cell_type": "code",
   "execution_count": 39,
   "metadata": {},
   "outputs": [
    {
     "name": "stdout",
     "output_type": "stream",
     "text": [
      "['10', '20', '30', '40', '50']\n"
     ]
    }
   ],
   "source": [
    "l = rgx.split(\"-\",\"10-20-30-40-50\")\n",
    "print(l)"
   ]
  },
  {
   "cell_type": "code",
   "execution_count": 40,
   "metadata": {},
   "outputs": [
    {
     "name": "stdout",
     "output_type": "stream",
     "text": [
      "['www', 'google', 'com']\n"
     ]
    }
   ],
   "source": [
    "l = rgx.split(\"\\.\",\"www.google.com\")\n",
    "print(l)"
   ]
  },
  {
   "cell_type": "code",
   "execution_count": 41,
   "metadata": {},
   "outputs": [
    {
     "name": "stdout",
     "output_type": "stream",
     "text": [
      "The string starts with Learn\n"
     ]
    }
   ],
   "source": [
    "m = rgx.search(\"^Learn\",\"Learn python Here at udemy\")\n",
    "if m!=None:\n",
    "    print(\"The string starts with {}\".format(m.group()))\n",
    "else:\n",
    "    print(\"The string does not start with Learn\")"
   ]
  },
  {
   "cell_type": "code",
   "execution_count": 53,
   "metadata": {},
   "outputs": [
    {
     "name": "stdout",
     "output_type": "stream",
     "text": [
      "The string ends with udemy\n"
     ]
    }
   ],
   "source": [
    "m = rgx.search(\"udemy$\",\"Learn python Here at udemy\")\n",
    "if m!=None:\n",
    "    print(\"The string ends with {}\".format(m.group()))\n",
    "else:\n",
    "    print(\"The string does not ends with udemy\")"
   ]
  },
  {
   "cell_type": "code",
   "execution_count": 127,
   "metadata": {},
   "outputs": [
    {
     "name": "stdout",
     "output_type": "stream",
     "text": [
      "The string ends with udemy\n"
     ]
    }
   ],
   "source": [
    "# Ingnores the case \n",
    "m = rgx.search(\"udemy$\",\"Learn python Here at udemy\",rgx.IGNORECASE)\n",
    "if m!=None:\n",
    "    print(\"The string ends with {}\".format(m.group()))\n",
    "else:\n",
    "    print(\"The string does not ends with udemy\")"
   ]
  },
  {
   "cell_type": "markdown",
   "metadata": {},
   "source": [
    "# Application Regex"
   ]
  },
  {
   "cell_type": "code",
   "execution_count": null,
   "metadata": {
    "collapsed": true
   },
   "outputs": [],
   "source": []
  },
  {
   "cell_type": "code",
   "execution_count": 177,
   "metadata": {
    "collapsed": true
   },
   "outputs": [],
   "source": [
    "# write regular exp to find Yava langauge identifiers?\n",
    "#---1\n",
    "# allowed chars are\n",
    "# alphabets\n",
    "# digits\n",
    "# (#) symbol\n",
    "\n",
    "#---2\n",
    "# first char lower case alphabet from [a-k]\n",
    "# second char should be any digit divisable by 3\n",
    "# the length of identifier should be atleast 2 chars \n"
   ]
  },
  {
   "cell_type": "code",
   "execution_count": null,
   "metadata": {
    "collapsed": true
   },
   "outputs": [],
   "source": [
    "##   [a-k][0369][a-zA-Z0-9#]*"
   ]
  },
  {
   "cell_type": "code",
   "execution_count": 152,
   "metadata": {},
   "outputs": [
    {
     "name": "stdout",
     "output_type": "stream",
     "text": [
      "Enter value :K3\n"
     ]
    }
   ],
   "source": [
    "val = input(\"Enter value :\")"
   ]
  },
  {
   "cell_type": "code",
   "execution_count": 156,
   "metadata": {},
   "outputs": [
    {
     "name": "stdout",
     "output_type": "stream",
     "text": [
      "K3 is a valid yava identifier\n"
     ]
    }
   ],
   "source": [
    "m = rgx.fullmatch('[a-kA-K][0369][a-zA-Z0-9#]*',val)\n",
    "if m != None:\n",
    "    print(m.group(),\"is a valid yava identifier\")\n",
    "else:\n",
    "    print(\"not a valid yava identifier\")"
   ]
  },
  {
   "cell_type": "code",
   "execution_count": 158,
   "metadata": {
    "collapsed": true
   },
   "outputs": [],
   "source": [
    "# write regular exp to find 10 digit mobile numbers?\n",
    "#---1\n",
    "# first digit are 7,6,8,9\n",
    "# rest any digit\n",
    "\n",
    "#---2\n",
    "# -->  [6789][0-9]{9}\n",
    "# -->  [6-9]\\d{9}"
   ]
  },
  {
   "cell_type": "code",
   "execution_count": 198,
   "metadata": {},
   "outputs": [
    {
     "name": "stdout",
     "output_type": "stream",
     "text": [
      "Enter Mobile Number : 7865679876\n"
     ]
    }
   ],
   "source": [
    "mobile = input(\"Enter Mobile Number : \")"
   ]
  },
  {
   "cell_type": "code",
   "execution_count": 199,
   "metadata": {},
   "outputs": [
    {
     "name": "stdout",
     "output_type": "stream",
     "text": [
      "7865679876 is a valid Number\n"
     ]
    }
   ],
   "source": [
    "m = re.fullmatch('[6789][0-9]{9}',mobile)\n",
    "if m != None:\n",
    "    print(m.group(),\"is a valid Number\")\n",
    "else:\n",
    "    print(\"not a valid Number\")"
   ]
  },
  {
   "cell_type": "code",
   "execution_count": 200,
   "metadata": {},
   "outputs": [
    {
     "name": "stdout",
     "output_type": "stream",
     "text": [
      "7865679876 is a valid Number\n"
     ]
    }
   ],
   "source": [
    "m = re.fullmatch('[6-9]\\d{9}',mobile)\n",
    "if m != None:\n",
    "    print(m.group(),\"is a valid Number\")\n",
    "else:\n",
    "    print(\"not a valid Number\")"
   ]
  },
  {
   "cell_type": "code",
   "execution_count": null,
   "metadata": {
    "collapsed": true
   },
   "outputs": [],
   "source": [
    "# write regular exp to find 10,11,12,13 digit mobile numbers?\n",
    "#---10 digit\n",
    "# first digit are 7,6,8,9\n",
    "# rest any digit\n",
    "\n",
    "#---11 digit\n",
    "# first digit 0\n",
    "# second digit are 7,6,8,9\n",
    "# rest any digit\n",
    "\n",
    "\n",
    "#---12 digit\n",
    "# first digit 91\n",
    "# second digit are 7,6,8,9\n",
    "# rest any digit\n",
    "\n",
    "\n",
    "#---13 digit\n",
    "# first digit +91\n",
    "# second digit are 7,6,8,9\n",
    "# rest any digit"
   ]
  },
  {
   "cell_type": "code",
   "execution_count": 21,
   "metadata": {},
   "outputs": [
    {
     "name": "stdout",
     "output_type": "stream",
     "text": [
      "Enter mobile Number :-919949648018\n"
     ]
    }
   ],
   "source": [
    "val = input(\"Enter mobile Number :\")"
   ]
  },
  {
   "cell_type": "code",
   "execution_count": 19,
   "metadata": {
    "collapsed": true
   },
   "outputs": [],
   "source": [
    "def validatemobile(val):\n",
    "    \n",
    "    match = rgx.fullmatch(\"[+]\\d*\",val)\n",
    "    if match is not None:\n",
    "        \n",
    "        if len(val) == 10:\n",
    "            imatch = rgx.fullmatch(\"[6,7,8,9]\\d{9}\",val)\n",
    "            if imatch is not None:\n",
    "                print(\"10\")\n",
    "            else:\n",
    "                print(\"Invalid 10 digit number\")\n",
    "        elif len(val) == 11:\n",
    "            imatch = rgx.fullmatch(\"[0][6,7,8,9]\\d{9}\",val)\n",
    "            if imatch is not None:\n",
    "                print(\"11\")\n",
    "            else:\n",
    "                print(\"Invalid 11 digit number\")\n",
    "        elif len(val) == 12:\n",
    "            imatch = rgx.fullmatch(\"[9][1][6,7,8,9]\\d{9}\",val)\n",
    "            if imatch is not None:\n",
    "                print(\"12\")\n",
    "            else:\n",
    "                print(\"Invalid 12 digit number\")\n",
    "        elif len(val) == 13:\n",
    "            imatch = rgx.fullmatch(\"[+][9][1][6,7,8,9]\\d{9}\",val)\n",
    "            if imatch is not None:\n",
    "                print(\"13\")\n",
    "            else:\n",
    "                print(\"Invalid 13 digit number\")\n",
    "        else:\n",
    "            print(\"Invalid Number\")\n",
    "    else:\n",
    "        print(\"invalid number\")   "
   ]
  },
  {
   "cell_type": "code",
   "execution_count": 22,
   "metadata": {},
   "outputs": [
    {
     "name": "stdout",
     "output_type": "stream",
     "text": [
      "invalid number\n"
     ]
    }
   ],
   "source": [
    "validatemobile(val)"
   ]
  },
  {
   "cell_type": "markdown",
   "metadata": {},
   "source": [
    "# Assignment"
   ]
  },
  {
   "cell_type": "code",
   "execution_count": null,
   "metadata": {
    "collapsed": true
   },
   "outputs": [],
   "source": [
    "# Write a python program  to extract all mobile numbers from input.txt file"
   ]
  },
  {
   "cell_type": "code",
   "execution_count": null,
   "metadata": {
    "collapsed": true
   },
   "outputs": [],
   "source": [
    "# write regular exp to validate  gmail or e-mail\n",
    "#gmail\n",
    "#yahoomail.com\n",
    "#rediffmail.com\n",
    "#umtc.co.in\n",
    "#tv9.net"
   ]
  },
  {
   "cell_type": "code",
   "execution_count": 207,
   "metadata": {
    "collapsed": true
   },
   "outputs": [],
   "source": [
    "# Write a python program  to car registration valid ts number or not"
   ]
  },
  {
   "cell_type": "code",
   "execution_count": null,
   "metadata": {
    "collapsed": true
   },
   "outputs": [],
   "source": [
    "#TS07EA7777"
   ]
  },
  {
   "cell_type": "code",
   "execution_count": null,
   "metadata": {
    "collapsed": true
   },
   "outputs": [],
   "source": [
    "[tT][sS][0-2][0-9](EA|AE|GA)\\d{4}"
   ]
  },
  {
   "cell_type": "markdown",
   "metadata": {
    "collapsed": true
   },
   "source": [
    "# find in the txt files"
   ]
  },
  {
   "cell_type": "code",
   "execution_count": null,
   "metadata": {
    "collapsed": true
   },
   "outputs": [],
   "source": []
  },
  {
   "cell_type": "code",
   "execution_count": null,
   "metadata": {
    "collapsed": true
   },
   "outputs": [],
   "source": []
  },
  {
   "cell_type": "code",
   "execution_count": null,
   "metadata": {
    "collapsed": true
   },
   "outputs": [],
   "source": []
  },
  {
   "cell_type": "markdown",
   "metadata": {},
   "source": [
    "# Web Scraping Using Regex"
   ]
  },
  {
   "cell_type": "code",
   "execution_count": null,
   "metadata": {
    "collapsed": true
   },
   "outputs": [],
   "source": [
    "# web scraping: the process of collecting data from a webpage "
   ]
  },
  {
   "cell_type": "code",
   "execution_count": 203,
   "metadata": {
    "collapsed": true
   },
   "outputs": [],
   "source": [
    "import re,urllib"
   ]
  },
  {
   "cell_type": "code",
   "execution_count": 204,
   "metadata": {
    "collapsed": true
   },
   "outputs": [],
   "source": [
    "import urllib.request"
   ]
  },
  {
   "cell_type": "code",
   "execution_count": 205,
   "metadata": {
    "collapsed": true
   },
   "outputs": [],
   "source": [
    "sites = [\"http://google.com\",\"http://Rediff.com\",\"http://amazon.com\"]"
   ]
  },
  {
   "cell_type": "code",
   "execution_count": null,
   "metadata": {
    "collapsed": true
   },
   "outputs": [],
   "source": []
  },
  {
   "cell_type": "markdown",
   "metadata": {},
   "source": [
    "# email validation"
   ]
  },
  {
   "cell_type": "code",
   "execution_count": null,
   "metadata": {
    "collapsed": true
   },
   "outputs": [],
   "source": [
    "#email \n",
    "# [a-z][a-zA-Z0-9_]{0,10}[@](gmail|yahoo)[.](com)"
   ]
  },
  {
   "cell_type": "code",
   "execution_count": 74,
   "metadata": {},
   "outputs": [
    {
     "name": "stdout",
     "output_type": "stream",
     "text": [
      "Enter mail ID :: sha_rg@gmail.com\n"
     ]
    }
   ],
   "source": [
    "email = input(\"Enter mail ID :: \")"
   ]
  },
  {
   "cell_type": "code",
   "execution_count": 55,
   "metadata": {},
   "outputs": [
    {
     "name": "stdout",
     "output_type": "stream",
     "text": [
      "Invalid mail id\n"
     ]
    }
   ],
   "source": [
    "m = rgx.fullmatch(\"[a-zA-Z0-9][a-zA-Z0-9_.]{2,20}[@](gmail|yahoo)[.](com)\",email)\n",
    "if m != None:\n",
    "    print(m.group(),\"Is a valid email Id\")\n",
    "else:\n",
    "    print(\"Invalid mail id\")"
   ]
  },
  {
   "cell_type": "code",
   "execution_count": 61,
   "metadata": {},
   "outputs": [
    {
     "name": "stdout",
     "output_type": "stream",
     "text": [
      "Invalid mail id\n"
     ]
    }
   ],
   "source": [
    "m = rgx.fullmatch(\"[a-zA-Z0-9][a-zA-Z0-9_.]{2,20}[@](umtc|UMTC)[.](co).(in)\",email)\n",
    "if m != None:\n",
    "    print(m.group(),\"Is a valid email Id\")\n",
    "else:\n",
    "    print(\"Invalid mail id\")"
   ]
  },
  {
   "cell_type": "code",
   "execution_count": 58,
   "metadata": {},
   "outputs": [
    {
     "data": {
      "text/plain": [
       "'shashank.ragireddy@umtc.co.in'"
      ]
     },
     "execution_count": 58,
     "metadata": {},
     "output_type": "execute_result"
    }
   ],
   "source": [
    "email"
   ]
  },
  {
   "cell_type": "code",
   "execution_count": 72,
   "metadata": {},
   "outputs": [
    {
     "data": {
      "text/plain": [
       "'[a-zA-Z][a-zA-Z0-9.]{1,15}[@](gmail)[.](com)'"
      ]
     },
     "execution_count": 72,
     "metadata": {},
     "output_type": "execute_result"
    }
   ],
   "source": [
    "\"[a-zA-Z][a-zA-Z0-9.]{1,15}[@](gmail)[.](com)\""
   ]
  },
  {
   "cell_type": "code",
   "execution_count": 75,
   "metadata": {},
   "outputs": [
    {
     "name": "stdout",
     "output_type": "stream",
     "text": [
      "Invalid mail id\n"
     ]
    }
   ],
   "source": [
    "m = rgx.fullmatch(\"[a-zA-Z][a-zA-Z0-9.]{1,15}[@](gmail)[.](com)\",email)\n",
    "if m != None:\n",
    "    print(m.group(),\"Is a valid email Id\")\n",
    "else:\n",
    "    print(\"Invalid mail id\")"
   ]
  },
  {
   "cell_type": "code",
   "execution_count": 71,
   "metadata": {},
   "outputs": [
    {
     "data": {
      "text/plain": [
       "11"
      ]
     },
     "execution_count": 71,
     "metadata": {},
     "output_type": "execute_result"
    }
   ],
   "source": [
    "len(\"shashank.ra\")"
   ]
  },
  {
   "cell_type": "code",
   "execution_count": 84,
   "metadata": {},
   "outputs": [
    {
     "name": "stdout",
     "output_type": "stream",
     "text": [
      "Enter age from 1 to 99:: 04\n"
     ]
    }
   ],
   "source": [
    "age = input(\"Enter age from 1 to 99:: \")"
   ]
  },
  {
   "cell_type": "code",
   "execution_count": 85,
   "metadata": {},
   "outputs": [
    {
     "name": "stdout",
     "output_type": "stream",
     "text": [
      "04 Is a valid age\n"
     ]
    }
   ],
   "source": [
    "m = rgx.fullmatch(\"\\d{1,2}\",age)\n",
    "if m != None:\n",
    "    print(m.group(),\"Is a valid age\")\n",
    "else:\n",
    "    print(\"Invalid age\")"
   ]
  },
  {
   "cell_type": "code",
   "execution_count": null,
   "metadata": {
    "collapsed": true
   },
   "outputs": [],
   "source": []
  }
 ],
 "metadata": {
  "kernelspec": {
   "display_name": "Python 3",
   "language": "python",
   "name": "python3"
  },
  "language_info": {
   "codemirror_mode": {
    "name": "ipython",
    "version": 3
   },
   "file_extension": ".py",
   "mimetype": "text/x-python",
   "name": "python",
   "nbconvert_exporter": "python",
   "pygments_lexer": "ipython3",
   "version": "3.6.2"
  }
 },
 "nbformat": 4,
 "nbformat_minor": 2
}
